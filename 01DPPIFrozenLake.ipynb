{
  "nbformat": 4,
  "nbformat_minor": 0,
  "metadata": {
    "colab": {
      "name": "DPPIFrozenLake",
      "provenance": [],
      "authorship_tag": "ABX9TyNGj7SVvnp9UTv3O/2peFze",
      "include_colab_link": true
    },
    "kernelspec": {
      "name": "python3",
      "display_name": "Python 3"
    },
    "language_info": {
      "name": "python"
    }
  },
  "cells": [
    {
      "cell_type": "markdown",
      "metadata": {
        "id": "view-in-github",
        "colab_type": "text"
      },
      "source": [
        "<a href=\"https://colab.research.google.com/github/oektomo/KelasRLG2/blob/master/DPPIFrozenLake.ipynb\" target=\"_parent\"><img src=\"https://colab.research.google.com/assets/colab-badge.svg\" alt=\"Open In Colab\"/></a>"
      ]
    },
    {
      "cell_type": "code",
      "execution_count": 1,
      "metadata": {
        "id": "Ys1rOOZLJdYK"
      },
      "outputs": [],
      "source": [
        "import gym\n",
        "import numpy as np"
      ]
    },
    {
      "cell_type": "code",
      "source": [
        "def policy_evaluation(policy, environment, discount_factor=0.9, theta=1e-9, max_iterations=1e9):\n",
        "        # Number of evaluation iterations\n",
        "        evaluation_iterations = 1\n",
        "        # Initialize a value function for each state as zero\n",
        "        V = np.zeros(environment.nS)\n",
        "        # Repeat until change in value is below the threshold\n",
        "        for i in range(int(max_iterations)):\n",
        "                # Initialize a change of value function as zero\n",
        "                delta = 0\n",
        "                # Iterate though each state\n",
        "                for state in range(environment.nS):\n",
        "                       # Initial a new value of current state\n",
        "                       v = 0\n",
        "                       # Try all possible actions which can be taken from this state\n",
        "                       for action, action_probability in enumerate(policy[state]):\n",
        "                             # Check how good next state will be\n",
        "                             for state_probability, next_state, reward, terminated in environment.P[state][action]:\n",
        "                                  # Calculate the expected value\n",
        "                                  v += action_probability * state_probability * (reward + discount_factor * V[next_state])\n",
        "                       # Calculate the absolute change of value function\n",
        "                       delta = max(delta, np.abs(V[state] - v))\n",
        "                       # Update value function\n",
        "                       V[state] = v\n",
        "                \n",
        "                evaluation_iterations += 1\n",
        "                \n",
        "                # Terminate if value change is insignificant\n",
        "                if delta < theta:\n",
        "                        print(f'Policy evaluated in {evaluation_iterations} iterations.')\n",
        "                        return V"
      ],
      "metadata": {
        "id": "n3VRBcAHJm7x"
      },
      "execution_count": 2,
      "outputs": []
    },
    {
      "cell_type": "code",
      "source": [
        "def one_step_lookahead(environment, state, V, discount_factor):\n",
        "        action_values = np.zeros(environment.nA)\n",
        "        for action in range(environment.nA):\n",
        "                for probability, next_state, reward, terminated in environment.P[state][action]:\n",
        "                        action_values[action] += probability * (reward + discount_factor * V[next_state])\n",
        "        return action_values"
      ],
      "metadata": {
        "id": "9Ii4L7zUKFNI"
      },
      "execution_count": 6,
      "outputs": []
    },
    {
      "cell_type": "code",
      "source": [
        "def policy_iteration(environment, discount_factor=0.9, max_iterations=1e9):\n",
        "        # Start with a random policy\n",
        "        #num states x num actions / num actions\n",
        "        environment = environment.unwrapped\n",
        "        policy = np.ones([environment.nS, environment.nA]) / environment.nA\n",
        "        # Initialize counter of evaluated policies\n",
        "        evaluated_policies = 1\n",
        "        # Repeat until convergence or critical number of iterations reached\n",
        "        for i in range(int(max_iterations)):\n",
        "                stable_policy = True\n",
        "                # Evaluate current policy\n",
        "                V = policy_evaluation(policy, environment, discount_factor=discount_factor)\n",
        "                # Go through each state and try to improve actions that were taken (policy Improvement)\n",
        "                for state in range(environment.nS):\n",
        "                        # Choose the best action in a current state under current policy\n",
        "                        current_action = np.argmax(policy[state])\n",
        "                        # Look one step ahead and evaluate if current action is optimal\n",
        "                        # We will try every possible action in a current state\n",
        "                        action_value = one_step_lookahead(environment, state, V, discount_factor)\n",
        "                        # Select a better action\n",
        "                        best_action = np.argmax(action_value)\n",
        "                        # If action didn't change\n",
        "                        if current_action != best_action:\n",
        "                                stable_policy = True\n",
        "                                # Greedy policy update\n",
        "                                policy[state] = np.eye(environment.nA)[best_action]\n",
        "                                print(\"state \",state,\" berubah\")\n",
        "                evaluated_policies += 1\n",
        "                # If the algorithm converged and policy is not changing anymore, then return final policy and value function\n",
        "                if stable_policy:\n",
        "                        print(f'Evaluated {evaluated_policies} policies.')\n",
        "                        return policy, V"
      ],
      "metadata": {
        "id": "clVMfwwoKARl"
      },
      "execution_count": 9,
      "outputs": []
    },
    {
      "cell_type": "code",
      "source": [
        "environment = gym.make('FrozenLake-v0')\n",
        "policy_p, V_p = policy_iteration(environment.env)"
      ],
      "metadata": {
        "colab": {
          "base_uri": "https://localhost:8080/"
        },
        "id": "vnHLWbl1JnnU",
        "outputId": "2a846a9a-23f9-4b58-eea1-890f973f5bad"
      },
      "execution_count": 10,
      "outputs": [
        {
          "output_type": "stream",
          "name": "stdout",
          "text": [
            "Policy evaluated in 45 iterations.\n",
            "state  1  berubah\n",
            "state  3  berubah\n",
            "state  8  berubah\n",
            "state  9  berubah\n",
            "state  13  berubah\n",
            "state  14  berubah\n",
            "Evaluated 2 policies.\n"
          ]
        }
      ]
    },
    {
      "cell_type": "code",
      "source": [
        ""
      ],
      "metadata": {
        "id": "0b5HNdZyJn9E"
      },
      "execution_count": null,
      "outputs": []
    },
    {
      "cell_type": "code",
      "source": [
        ""
      ],
      "metadata": {
        "id": "VBcUp-NzJoF1"
      },
      "execution_count": null,
      "outputs": []
    },
    {
      "cell_type": "code",
      "source": [
        ""
      ],
      "metadata": {
        "id": "f6hOW4JLJoNq"
      },
      "execution_count": null,
      "outputs": []
    },
    {
      "cell_type": "code",
      "source": [
        ""
      ],
      "metadata": {
        "id": "4o5pmQ6MJoUl"
      },
      "execution_count": null,
      "outputs": []
    },
    {
      "cell_type": "code",
      "source": [
        ""
      ],
      "metadata": {
        "id": "rhr_dylMJoba"
      },
      "execution_count": null,
      "outputs": []
    },
    {
      "cell_type": "code",
      "source": [
        ""
      ],
      "metadata": {
        "id": "VMDcY5FwJoi2"
      },
      "execution_count": null,
      "outputs": []
    },
    {
      "cell_type": "code",
      "source": [
        ""
      ],
      "metadata": {
        "id": "CbkquGrwJop6"
      },
      "execution_count": null,
      "outputs": []
    },
    {
      "cell_type": "code",
      "source": [
        ""
      ],
      "metadata": {
        "id": "BobovLJcJoyF"
      },
      "execution_count": null,
      "outputs": []
    }
  ]
}