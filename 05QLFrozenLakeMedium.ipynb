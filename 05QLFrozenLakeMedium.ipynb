{
  "nbformat": 4,
  "nbformat_minor": 0,
  "metadata": {
    "colab": {
      "name": "QLFrozenLakeMedium",
      "provenance": [],
      "authorship_tag": "ABX9TyO90RB0RhanvgcuUm8vycu4",
      "include_colab_link": true
    },
    "kernelspec": {
      "name": "python3",
      "display_name": "Python 3"
    },
    "language_info": {
      "name": "python"
    }
  },
  "cells": [
    {
      "cell_type": "markdown",
      "metadata": {
        "id": "view-in-github",
        "colab_type": "text"
      },
      "source": [
        "<a href=\"https://colab.research.google.com/github/oektomo/KelasRLG2/blob/master/05QLFrozenLakeMedium.ipynb\" target=\"_parent\"><img src=\"https://colab.research.google.com/assets/colab-badge.svg\" alt=\"Open In Colab\"/></a>"
      ]
    },
    {
      "cell_type": "code",
      "execution_count": null,
      "metadata": {
        "colab": {
          "base_uri": "https://localhost:8080/"
        },
        "id": "JNPbEIZMiaKY",
        "outputId": "4d16ee1d-d7b7-4dd7-de2a-c79fdb372594"
      },
      "outputs": [
        {
          "output_type": "stream",
          "name": "stdout",
          "text": [
            "[[6.75656231e-01 7.27682130e-01 6.19633239e-01 6.82092621e-01]\n",
            " [5.99306388e-01 6.07093807e-01 5.08063806e-01 6.23356613e-01]\n",
            " [6.50145068e-01 6.56228535e-01 2.52515466e-01 6.30323111e-01]\n",
            " [1.14786395e-01 6.67196984e-01 3.80184497e-03 6.84801656e-01]\n",
            " [7.66631253e-01 1.12320742e-01 6.96811824e-04 1.00814569e-01]\n",
            " [0.00000000e+00 0.00000000e+00 0.00000000e+00 0.00000000e+00]\n",
            " [1.54389315e-01 2.57049790e-02 1.60031407e-01 3.94177296e-03]\n",
            " [0.00000000e+00 0.00000000e+00 0.00000000e+00 0.00000000e+00]\n",
            " [1.00147637e-01 6.77441207e-01 6.88730585e-01 7.44892894e-01]\n",
            " [6.33305669e-01 8.71536227e-01 3.23436930e-02 7.08745708e-01]\n",
            " [8.78378243e-01 7.78184830e-01 2.83448768e-02 1.59377855e-01]\n",
            " [0.00000000e+00 0.00000000e+00 0.00000000e+00 0.00000000e+00]\n",
            " [0.00000000e+00 0.00000000e+00 0.00000000e+00 0.00000000e+00]\n",
            " [6.01592277e-01 1.80432564e-01 8.84578283e-01 9.48439233e-01]\n",
            " [9.19240206e-01 9.27802111e-01 9.32246606e-01 9.71807448e-01]\n",
            " [0.00000000e+00 0.00000000e+00 0.00000000e+00 0.00000000e+00]]\n"
          ]
        }
      ],
      "source": [
        "# https://medium.com/swlh/introduction-to-reinforcement-learning-coding-sarsa-part-4-2d64d6e37617\n",
        "# https://medium.com/swlh/introduction-to-reinforcement-learning-coding-q-learning-part-3-9778366a41c0\n",
        "import gym\n",
        "import numpy as np\n",
        "import time, pickle, os\n",
        "\n",
        "env = gym.make('FrozenLake-v0')\n",
        "\n",
        "epsilon = 0.9\n",
        "total_episodes = 10000\n",
        "max_steps = 100\n",
        "\n",
        "lr_rate = 0.81\n",
        "gamma = 0.96\n",
        "\n",
        "Q = np.zeros((env.observation_space.n, env.action_space.n))\n",
        "    \n",
        "def choose_action(state):\n",
        "    action=0\n",
        "    if np.random.uniform(0, 1) < epsilon:\n",
        "        action = env.action_space.sample()\n",
        "    else:\n",
        "        action = np.argmax(Q[state, :])\n",
        "    return action\n",
        "\n",
        "def learn(state, state2, reward, action):\n",
        "    predict = Q[state, action]\n",
        "    target = reward + gamma * np.max(Q[state2, :])\n",
        "    Q[state, action] = Q[state, action] + lr_rate * (target - predict)\n",
        "\n",
        "# Start\n",
        "for episode in range(total_episodes):\n",
        "    state = env.reset()\n",
        "    t = 0\n",
        "    \n",
        "    while t < max_steps:\n",
        "        #env.render()\n",
        "\n",
        "        action = choose_action(state)  \n",
        "\n",
        "        state2, reward, done, info = env.step(action)  \n",
        "\n",
        "        learn(state, state2, reward, action)\n",
        "\n",
        "        state = state2\n",
        "\n",
        "        t += 1\n",
        "       \n",
        "        if done:\n",
        "            break\n",
        "\n",
        "        #time.sleep(0.1)\n",
        "\n",
        "print(Q)\n",
        "\n",
        "#with open(\"frozenLake_qTable.pkl\", 'wb') as f:\n",
        "#    pickle.dump(Q, f)"
      ]
    },
    {
      "cell_type": "code",
      "source": [
        ""
      ],
      "metadata": {
        "id": "SMACf4aMjJ7U"
      },
      "execution_count": null,
      "outputs": []
    }
  ]
}