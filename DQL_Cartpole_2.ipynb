{
  "cells": [
    {
      "cell_type": "markdown",
      "metadata": {
        "id": "view-in-github",
        "colab_type": "text"
      },
      "source": [
        "<a href=\"https://colab.research.google.com/github/oektomo/KelasRLG2/blob/master/DQL_Cartpole_2.ipynb\" target=\"_parent\"><img src=\"https://colab.research.google.com/assets/colab-badge.svg\" alt=\"Open In Colab\"/></a>"
      ]
    },
    {
      "cell_type": "code",
      "execution_count": null,
      "metadata": {
        "id": "IQd00eaaf53-"
      },
      "outputs": [],
      "source": [
        "# !pip install score\n",
        "# https://gsurma.medium.com/cartpole-introduction-to-reinforcement-learning-ed0eb5b58288"
      ]
    },
    {
      "cell_type": "code",
      "execution_count": null,
      "metadata": {
        "id": "o-dP9nwjVGmn"
      },
      "outputs": [],
      "source": [
        "import random\n",
        "import gym\n",
        "import math\n",
        "import numpy as np\n",
        "import matplotlib.pyplot as plt\n",
        "from collections import deque\n",
        "from keras.models import Sequential\n",
        "from keras.layers import Dense\n",
        "#from keras.optimizers import Adam\n",
        "from tensorflow.keras.optimizers import Adam\n",
        "\n",
        "# from scores.score_logger import ScoreLogger\n",
        "\n",
        "ENV_NAME = \"CartPole-v1\"\n",
        "\n",
        "GAMMA = 0.95\n",
        "LEARNING_RATE = 0.001\n",
        "\n",
        "MEMORY_SIZE = 1000000\n",
        "BATCH_SIZE = 20\n",
        "\n",
        "EXPLORATION_MAX = 1.0\n",
        "EXPLORATION_MIN = 0.01\n",
        "EXPLORATION_DECAY = 0.995"
      ]
    },
    {
      "cell_type": "code",
      "execution_count": null,
      "metadata": {
        "id": "TRLxoXtdVefh"
      },
      "outputs": [],
      "source": [
        "class DQNSolver:\n",
        "  def __init__(self, observation_space, action_space):\n",
        "    self.exploration_rate = EXPLORATION_MAX\n",
        "    \n",
        "    self.action_space = action_space\n",
        "    self.memory = deque(maxlen=MEMORY_SIZE)\n",
        "\n",
        "    self.model = Sequential()\n",
        "    self.model.add(Dense(24, input_shape=(observation_space, ), activation=\"relu\"))\n",
        "    self.model.add(Dense(24, activation=\"relu\"))\n",
        "    self.model.add(Dense(self.action_space, activation=\"linear\"))\n",
        "    # model.compile(optimizer=tf.keras.optimizers.Adam(learning_rate=1e-3),\n",
        "    self.model.compile(loss=\"mse\", optimizer=Adam(learning_rate=LEARNING_RATE))\n",
        "  \n",
        "  def remember(self, state, action, reward, next_state, done):\n",
        "    self.memory.append((state, action, reward, next_state, done))\n",
        "\n",
        "  # choose if we want to explore or use the neural net\n",
        "  def act(self, state):\n",
        "    if np.random.rand() < self.exploration_rate:\n",
        "      return random.randrange(self.action_space)\n",
        "    q_values = self.model.predict(state)\n",
        "    return np.argmax(q_values[0])\n",
        "\n",
        "  # Replay Memory in Experience Replay\n",
        "  def experience_replay(self):\n",
        "    if len(self.memory) < BATCH_SIZE:\n",
        "      return\n",
        "    batch = random.sample(self.memory, BATCH_SIZE)\n",
        "    for state, action, reward, state_next, terminal in batch:\n",
        "      q_update = reward\n",
        "      if not terminal:\n",
        "        q_update = reward + GAMMA * np.amax(self.model.predict(state_next)[0])\n",
        "      q_values = self.model.predict(state)\n",
        "      q_values[0][action] = q_update\n",
        "      self.model.fit(state, q_values, verbose=0)\n",
        "    self.exploration_rate *= EXPLORATION_DECAY\n",
        "    self.exploration_rate = max(EXPLORATION_MIN, self.exploration_rate)"
      ]
    },
    {
      "cell_type": "code",
      "execution_count": null,
      "metadata": {
        "id": "WBqbZjUEe3Io"
      },
      "outputs": [],
      "source": [
        "def cartpole(max_run = 3):\n",
        "    env = gym.make(ENV_NAME)\n",
        "    #score_logger = ScoreLogger(ENV_NAME)\n",
        "    observation_space = env.observation_space.shape[0]\n",
        "    action_space = env.action_space.n\n",
        "    dqn_solver = DQNSolver(observation_space, action_space)\n",
        "    run = 0\n",
        "    score = []\n",
        "    lcpos = [] # longest episode cart position\n",
        "    lcvel = [] # longest episode cart velocity\n",
        "    lpangl = [] # longest episode pole angle\n",
        "    #max_run = 3\n",
        "    while True:\n",
        "        run += 1\n",
        "        state = env.reset()\n",
        "        state = np.reshape(state, [1, observation_space])\n",
        "        step = 0\n",
        "        cpos = []\n",
        "        cvel = []\n",
        "        pangl = []\n",
        "        cpos.append(state[0,0])\n",
        "        cvel.append(state[0,1])\n",
        "        pangl.append(state[0,2])\n",
        "        while True:\n",
        "            step += 1\n",
        "            #env.render()\n",
        "            action = dqn_solver.act(state)\n",
        "            state_next, reward, terminal, info = env.step(action)\n",
        "            cpos.append(state_next[0])\n",
        "            cvel.append(state_next[1])\n",
        "            pangl.append(math.degrees(state_next[2]))\n",
        "            reward = reward if not terminal else -reward\n",
        "            state_next = np.reshape(state_next, [1, observation_space])\n",
        "            dqn_solver.remember(state, action, reward, state_next, terminal)\n",
        "            state = state_next\n",
        "            if terminal:\n",
        "                print (\"Episode: \"+str(run)+\n",
        "                       \", exploration: \"+str(round(dqn_solver.exploration_rate, 3))+\n",
        "                       \", score: \"+str(step)+\n",
        "                       \", pos: \"+str(round(state_next[0,0], 3))+\n",
        "                       \", angle: \"+str(round(math.degrees(state_next[0,2]), 2))+\n",
        "                       \" deg\")\n",
        "                score.append(step)\n",
        "                #if cpos.size > lcpos.size:\n",
        "                if len(cpos) > len(lcpos):\n",
        "                    lcpos = cpos\n",
        "                    lcvel = cvel\n",
        "                    lpangl = pangl\n",
        "                #plt.plot(pangl)\n",
        "                #plt.plot(cvel)\n",
        "                #score_logger.add_score(step, run)\n",
        "                break\n",
        "            dqn_solver.experience_replay()\n",
        "        if run >= max_run:\n",
        "            break\n",
        "    plt.plot(score)\n",
        "    return score, lcpos, lcvel, lpangl\n",
        "    # todo: check the code for saving the longest episode cart speed, cart position, pole angle\n",
        "    # refactor the code to make one list to record angle and score?"
      ]
    },
    {
      "cell_type": "code",
      "execution_count": null,
      "metadata": {
        "colab": {
          "base_uri": "https://localhost:8080/",
          "height": 1000
        },
        "id": "PxZvz9En7hhA",
        "outputId": "b88c67c9-6255-44a3-c2ad-8ba516f491c9"
      },
      "outputs": [
        {
          "output_type": "stream",
          "name": "stdout",
          "text": [
            "Episode: 1, exploration: 1.0, score: 11, pos: -0.087, angle: 12.44 deg\n",
            "Episode: 2, exploration: 0.99, score: 11, pos: -0.11, angle: 12.44 deg\n",
            "Episode: 3, exploration: 0.878, score: 25, pos: -0.022, angle: 12.22 deg\n",
            "Episode: 4, exploration: 0.704, score: 45, pos: -0.218, angle: 12.33 deg\n",
            "Episode: 5, exploration: 0.647, score: 18, pos: 0.129, angle: -12.01 deg\n",
            "Episode: 6, exploration: 0.576, score: 24, pos: 0.299, angle: -13.81 deg\n",
            "Episode: 7, exploration: 0.548, score: 11, pos: 0.14, angle: -13.08 deg\n",
            "Episode: 8, exploration: 0.516, score: 13, pos: 0.159, angle: -12.55 deg\n",
            "Episode: 9, exploration: 0.493, score: 10, pos: 0.095, angle: -12.25 deg\n",
            "Episode: 10, exploration: 0.469, score: 11, pos: 0.15, angle: -13.13 deg\n",
            "Episode: 11, exploration: 0.446, score: 11, pos: 0.14, angle: -13.7 deg\n",
            "Episode: 12, exploration: 0.418, score: 14, pos: 0.155, angle: -13.65 deg\n",
            "Episode: 13, exploration: 0.394, score: 13, pos: 0.061, angle: -13.6 deg\n",
            "Episode: 14, exploration: 0.374, score: 11, pos: 0.134, angle: -14.23 deg\n",
            "Episode: 15, exploration: 0.351, score: 14, pos: 0.162, angle: -13.99 deg\n",
            "Episode: 16, exploration: 0.335, score: 10, pos: 0.187, angle: -12.52 deg\n",
            "Episode: 17, exploration: 0.313, score: 15, pos: -0.095, angle: 12.47 deg\n",
            "Episode: 18, exploration: 0.291, score: 15, pos: -0.165, angle: 12.21 deg\n",
            "Episode: 19, exploration: 0.201, score: 75, pos: 0.715, angle: 12.46 deg\n",
            "Episode: 20, exploration: 0.159, score: 48, pos: 0.22, angle: 12.17 deg\n",
            "Episode: 21, exploration: 0.11, score: 74, pos: 0.442, angle: 12.25 deg\n",
            "Episode: 22, exploration: 0.083, score: 57, pos: 0.26, angle: 12.04 deg\n",
            "Episode: 23, exploration: 0.062, score: 60, pos: 0.542, angle: 12.07 deg\n",
            "Episode: 24, exploration: 0.024, score: 194, pos: 0.953, angle: 12.23 deg\n",
            "Episode: 25, exploration: 0.012, score: 141, pos: -0.87, angle: -12.16 deg\n",
            "Episode: 26, exploration: 0.01, score: 250, pos: -1.596, angle: -12.23 deg\n",
            "Episode: 27, exploration: 0.01, score: 237, pos: 1.924, angle: 12.04 deg\n",
            "Episode: 28, exploration: 0.01, score: 239, pos: -1.667, angle: -12.09 deg\n",
            "Episode: 29, exploration: 0.01, score: 152, pos: -2.114, angle: -12.32 deg\n",
            "Episode: 30, exploration: 0.01, score: 189, pos: -2.418, angle: -10.89 deg\n",
            "Episode: 31, exploration: 0.01, score: 198, pos: -2.432, angle: -10.35 deg\n",
            "Episode: 32, exploration: 0.01, score: 157, pos: -2.437, angle: -9.66 deg\n",
            "Episode: 33, exploration: 0.01, score: 176, pos: -2.438, angle: -10.01 deg\n",
            "Episode: 34, exploration: 0.01, score: 203, pos: -2.41, angle: -9.46 deg\n",
            "Episode: 35, exploration: 0.01, score: 175, pos: -2.439, angle: -10.85 deg\n",
            "Episode: 36, exploration: 0.01, score: 150, pos: -2.401, angle: -11.29 deg\n",
            "Episode: 37, exploration: 0.01, score: 219, pos: -2.412, angle: -10.82 deg\n",
            "Episode: 38, exploration: 0.01, score: 172, pos: 2.424, angle: 9.89 deg\n",
            "Episode: 39, exploration: 0.01, score: 211, pos: -2.403, angle: -6.0 deg\n",
            "Episode: 40, exploration: 0.01, score: 190, pos: -2.368, angle: -12.4 deg\n",
            "Episode: 41, exploration: 0.01, score: 172, pos: -2.427, angle: -10.13 deg\n",
            "Episode: 42, exploration: 0.01, score: 160, pos: -1.903, angle: -12.16 deg\n",
            "Episode: 43, exploration: 0.01, score: 184, pos: -2.43, angle: -8.16 deg\n",
            "Episode: 44, exploration: 0.01, score: 242, pos: -2.166, angle: -12.07 deg\n",
            "Episode: 45, exploration: 0.01, score: 201, pos: -2.418, angle: -8.2 deg\n",
            "Episode: 46, exploration: 0.01, score: 137, pos: 2.426, angle: 9.19 deg\n",
            "Episode: 47, exploration: 0.01, score: 165, pos: 2.422, angle: -11.8 deg\n",
            "Episode: 48, exploration: 0.01, score: 186, pos: -2.406, angle: -0.48 deg\n",
            "Episode: 49, exploration: 0.01, score: 158, pos: 2.403, angle: -3.28 deg\n",
            "Episode: 50, exploration: 0.01, score: 210, pos: 2.228, angle: 12.03 deg\n",
            "Episode: 51, exploration: 0.01, score: 202, pos: -2.426, angle: -11.62 deg\n",
            "Episode: 52, exploration: 0.01, score: 155, pos: 2.354, angle: 13.04 deg\n",
            "Episode: 53, exploration: 0.01, score: 196, pos: 2.432, angle: -10.42 deg\n",
            "Episode: 54, exploration: 0.01, score: 166, pos: 2.045, angle: 12.0 deg\n",
            "Episode: 55, exploration: 0.01, score: 270, pos: -2.414, angle: -9.37 deg\n",
            "Episode: 56, exploration: 0.01, score: 173, pos: 2.43, angle: 4.44 deg\n",
            "Episode: 57, exploration: 0.01, score: 240, pos: -2.408, angle: -3.87 deg\n",
            "Episode: 58, exploration: 0.01, score: 173, pos: 2.396, angle: 12.29 deg\n",
            "Episode: 59, exploration: 0.01, score: 174, pos: 2.427, angle: 3.4 deg\n",
            "Episode: 60, exploration: 0.01, score: 321, pos: -2.418, angle: -8.76 deg\n",
            "Episode: 61, exploration: 0.01, score: 279, pos: 2.098, angle: 12.06 deg\n",
            "Episode: 62, exploration: 0.01, score: 242, pos: 2.432, angle: 3.95 deg\n",
            "Episode: 63, exploration: 0.01, score: 259, pos: 2.417, angle: 0.35 deg\n",
            "Episode: 64, exploration: 0.01, score: 319, pos: 2.413, angle: 11.08 deg\n",
            "Episode: 65, exploration: 0.01, score: 182, pos: 2.41, angle: 5.73 deg\n",
            "Episode: 66, exploration: 0.01, score: 306, pos: 2.42, angle: 2.09 deg\n",
            "Episode: 67, exploration: 0.01, score: 174, pos: -2.408, angle: 0.26 deg\n",
            "Episode: 68, exploration: 0.01, score: 188, pos: 2.423, angle: 4.73 deg\n",
            "Episode: 69, exploration: 0.01, score: 310, pos: 2.405, angle: 2.59 deg\n",
            "Episode: 70, exploration: 0.01, score: 239, pos: -2.407, angle: -0.41 deg\n",
            "Episode: 71, exploration: 0.01, score: 241, pos: 2.176, angle: -12.27 deg\n",
            "Episode: 72, exploration: 0.01, score: 323, pos: 2.42, angle: 7.95 deg\n",
            "Episode: 73, exploration: 0.01, score: 159, pos: 2.431, angle: -1.08 deg\n",
            "Episode: 74, exploration: 0.01, score: 283, pos: 2.415, angle: 8.11 deg\n",
            "Episode: 75, exploration: 0.01, score: 243, pos: 2.419, angle: -1.58 deg\n",
            "Episode: 76, exploration: 0.01, score: 500, pos: 2.269, angle: 8.29 deg\n",
            "Episode: 77, exploration: 0.01, score: 233, pos: 2.405, angle: -7.62 deg\n",
            "Episode: 78, exploration: 0.01, score: 63, pos: -0.212, angle: -12.02 deg\n",
            "Episode: 79, exploration: 0.01, score: 12, pos: 0.09, angle: -12.54 deg\n",
            "Episode: 80, exploration: 0.01, score: 181, pos: 2.422, angle: 5.98 deg\n",
            "Episode: 81, exploration: 0.01, score: 135, pos: -2.422, angle: -6.34 deg\n",
            "Episode: 82, exploration: 0.01, score: 166, pos: 2.401, angle: 4.83 deg\n",
            "Episode: 83, exploration: 0.01, score: 490, pos: -2.415, angle: -0.01 deg\n",
            "Episode: 84, exploration: 0.01, score: 226, pos: 2.208, angle: 12.11 deg\n",
            "Episode: 85, exploration: 0.01, score: 449, pos: -2.05, angle: -12.83 deg\n",
            "Episode: 86, exploration: 0.01, score: 168, pos: -2.409, angle: -4.91 deg\n",
            "Episode: 87, exploration: 0.01, score: 140, pos: -0.822, angle: -12.73 deg\n",
            "Episode: 88, exploration: 0.01, score: 14, pos: 0.075, angle: -12.91 deg\n",
            "Episode: 89, exploration: 0.01, score: 500, pos: -0.185, angle: 5.3 deg\n",
            "Episode: 90, exploration: 0.01, score: 470, pos: -2.403, angle: -3.4 deg\n",
            "Episode: 91, exploration: 0.01, score: 407, pos: -0.037, angle: 12.19 deg\n",
            "Episode: 92, exploration: 0.01, score: 146, pos: -2.401, angle: -5.5 deg\n",
            "Episode: 93, exploration: 0.01, score: 226, pos: -2.418, angle: -6.4 deg\n",
            "Episode: 94, exploration: 0.01, score: 484, pos: -2.401, angle: -7.09 deg\n",
            "Episode: 95, exploration: 0.01, score: 402, pos: -1.253, angle: -13.36 deg\n",
            "Episode: 96, exploration: 0.01, score: 320, pos: -2.426, angle: -8.88 deg\n",
            "Episode: 97, exploration: 0.01, score: 286, pos: -2.428, angle: -5.64 deg\n",
            "Episode: 98, exploration: 0.01, score: 361, pos: -2.413, angle: -5.91 deg\n",
            "Episode: 99, exploration: 0.01, score: 60, pos: 0.119, angle: -12.39 deg\n",
            "Episode: 100, exploration: 0.01, score: 9, pos: 0.134, angle: -12.21 deg\n"
          ]
        },
        {
          "output_type": "display_data",
          "data": {
            "text/plain": [
              "<Figure size 432x288 with 1 Axes>"
            ],
            "image/png": "[encoded data removed]"
          },
          "metadata": {
            "needs_background": "light"
          }
        }
      ],
      "source": [
        "score, lcpos, lcvel, lpangl = cartpole(100)"
      ]
    },
    {
      "cell_type": "code",
      "execution_count": null,
      "metadata": {
        "id": "IdogEvndgUX0",
        "colab": {
          "base_uri": "https://localhost:8080/",
          "height": 282
        },
        "outputId": "1dc21777-1112-4359-a313-18dc3953caa2"
      },
      "outputs": [
        {
          "output_type": "execute_result",
          "data": {
            "text/plain": [
              "[<matplotlib.lines.Line2D at 0x7fe44ac65910>]"
            ]
          },
          "metadata": {},
          "execution_count": 9
        },
        {
          "output_type": "display_data",
          "data": {
            "text/plain": [
              "<Figure size 432x288 with 1 Axes>"
            ],
            "image/png": "[encoded data removed]"
          },
          "metadata": {
            "needs_background": "light"
          }
        }
      ],
      "source": [
        "plt.plot(score)"
      ]
    },
    {
      "cell_type": "code",
      "execution_count": null,
      "metadata": {
        "id": "fcAz7Y5kO5ch",
        "colab": {
          "base_uri": "https://localhost:8080/",
          "height": 282
        },
        "outputId": "7a3fa8f0-9ba8-4023-8e1b-328920a08336"
      },
      "outputs": [
        {
          "output_type": "execute_result",
          "data": {
            "text/plain": [
              "[<matplotlib.lines.Line2D at 0x7fe437aa69d0>]"
            ]
          },
          "metadata": {},
          "execution_count": 10
        },
        {
          "output_type": "display_data",
          "data": {
            "text/plain": [
              "<Figure size 432x288 with 1 Axes>"
            ],
            "image/png": "[encoded data removed]"
          },
          "metadata": {
            "needs_background": "light"
          }
        }
      ],
      "source": [
        "plt.plot(lcpos)"
      ]
    },
    {
      "cell_type": "code",
      "execution_count": null,
      "metadata": {
        "id": "ynd8OWK-gWfr",
        "colab": {
          "base_uri": "https://localhost:8080/",
          "height": 165
        },
        "outputId": "f438f989-f3d5-4edc-be1e-a03f61956b9f"
      },
      "outputs": [
        {
          "output_type": "error",
          "ename": "NameError",
          "evalue": "ignored",
          "traceback": [
            "\u001b[0;31m---------------------------------------------------------------------------\u001b[0m",
            "\u001b[0;31mNameError\u001b[0m                                 Traceback (most recent call last)",
            "\u001b[0;32m<ipython-input-11-dc865eb6e78b>\u001b[0m in \u001b[0;36m<module>\u001b[0;34m()\u001b[0m\n\u001b[0;32m----> 1\u001b[0;31m \u001b[0menv\u001b[0m\u001b[0;34m.\u001b[0m\u001b[0mobservation_space\u001b[0m\u001b[0;34m.\u001b[0m\u001b[0mshape\u001b[0m\u001b[0;34m[\u001b[0m\u001b[0;36m0\u001b[0m\u001b[0;34m]\u001b[0m\u001b[0;34m\u001b[0m\u001b[0;34m\u001b[0m\u001b[0m\n\u001b[0m",
            "\u001b[0;31mNameError\u001b[0m: name 'env' is not defined"
          ]
        }
      ],
      "source": [
        "env.observation_space.shape[0]"
      ]
    },
    {
      "cell_type": "code",
      "execution_count": null,
      "metadata": {
        "id": "aXPfB9sYgZSM"
      },
      "outputs": [],
      "source": [
        "env.action_space"
      ]
    },
    {
      "cell_type": "markdown",
      "metadata": {
        "id": "bsxHoE2thI4v"
      },
      "source": [
        "\n",
        "    Observation: \n",
        "        Type: Box(4)\n",
        "\n",
        "    The observation is a `ndarray` with shape `(4,)` with the values corresponding to the following positions and velocities:\n",
        "    | Num | Observation           | Min                  | Max                |\n",
        "    |-----|-----------------------|----------------------|--------------------|\n",
        "    | 0   | Cart Position         | -4.8                 | 4.8                |\n",
        "    | 1   | Cart Velocity         | -Inf                 | Inf                |\n",
        "    | 2   | Pole Angle            | ~ -0.418 rad (-24°)  | ~ 0.418 rad (24°)  |\n",
        "    | 3   | Pole Angular Velocity | -Inf                 | Inf                |\n",
        "    **Note:** While the ranges above denote the possible values for observation space of each element, \n",
        "    it is not reflective of the allowed values of the state space in an unterminated episode. Particularly:\n",
        "    -  The cart x-position (index 0) can be take values between `(-4.8, 4.8)`, but the episode terminates if the cart leaves the `(-2.4, 2.4)` range.\n",
        "    -  The pole angle can be observed between  `(-.418, .418)` radians (or **±24°**), but the episode terminates if the pole angle is not in the range `(-.2095, .2095)` (or **±12°**)\n",
        "\n",
        "\n",
        "    Action:\n",
        "        Type: Discrete(2)\n",
        "        Num\tAction\n",
        "        0\tPush cart to the left\n",
        "        1\tPush cart to the right"
      ]
    },
    {
      "cell_type": "code",
      "execution_count": null,
      "metadata": {
        "id": "AX1NPGC7Pd5U"
      },
      "outputs": [],
      "source": [
        ""
      ]
    }
  ],
  "metadata": {
    "accelerator": "TPU",
    "colab": {
      "collapsed_sections": [],
      "name": "Copy of DQL-Cartpole",
      "provenance": [],
      "include_colab_link": true
    },
    "kernelspec": {
      "display_name": "Python 3",
      "name": "python3"
    },
    "language_info": {
      "name": "python"
    }
  },
  "nbformat": 4,
  "nbformat_minor": 0
}