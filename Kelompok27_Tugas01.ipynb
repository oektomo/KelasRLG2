{
  "nbformat": 4,
  "nbformat_minor": 0,
  "metadata": {
    "colab": {
      "name": "Kelompok27_Tugas01.ipynb",
      "provenance": [],
      "collapsed_sections": [],
      "authorship_tag": "ABX9TyN51xTdsZlR7fV4NZgQ9P6E",
      "include_colab_link": true
    },
    "kernelspec": {
      "name": "python3",
      "display_name": "Python 3"
    },
    "language_info": {
      "name": "python"
    }
  },
  "cells": [
    {
      "cell_type": "markdown",
      "metadata": {
        "id": "view-in-github",
        "colab_type": "text"
      },
      "source": [
        "<a href=\"https://colab.research.google.com/github/TaysTyas/KelasRLG2/blob/percy36/Kelompok27_Tugas01.ipynb\" target=\"_parent\"><img src=\"https://colab.research.google.com/assets/colab-badge.svg\" alt=\"Open In Colab\"/></a>"
      ]
    },
    {
      "cell_type": "markdown",
      "source": [
        "#**Tugas 01**"
      ],
      "metadata": {
        "id": "qNBJwo3uUzln"
      }
    },
    {
      "cell_type": "markdown",
      "source": [
        "####**Nama Kelompok**"
      ],
      "metadata": {
        "id": "M8Kb6lk4WsRH"
      }
    },
    {
      "cell_type": "markdown",
      "source": [
        "<table>\n",
        "  <tr>\n",
        "    <th>Nama Anggota</th>\n",
        "    <th>Asal Kelas</th>\n",
        "  </tr>\n",
        "\n",
        "  <tr>\n",
        "    <td>Dinda Ayu Ningtyas</td>\n",
        "    <td>Persevere</td>\n",
        "  </tr>\n",
        "  <tr>\n",
        "    <td>Eka Feriyando</td>\n",
        "    <td>Alan Turing</td>\n",
        "  </tr>\n",
        "  <tr>\n",
        "    <td>Feby Riani</td>\n",
        "    <td>Atlas</td>\n",
        "  </tr>\n",
        "  <tr>\n",
        "    <td>Happyta Nilam Sari</td>\n",
        "    <td>Visioner</td>\n",
        "  </tr>\n",
        "  <tr>\n",
        "    <td>Yosua Chrisarga Manuntun Marpaung</td>\n",
        "    <td>Better</td>\n",
        "  </tr>\n",
        "</table>"
      ],
      "metadata": {
        "id": "LHiYV_NFVDCF"
      }
    },
    {
      "cell_type": "markdown",
      "source": [
        "###**Student Activity**"
      ],
      "metadata": {
        "id": "FiYHViXBXDdV"
      }
    },
    {
      "cell_type": "markdown",
      "source": [
        "1.Cari dan tuliskan satu contoh aplikasi/implementasi RL dibidang anda!\n",
        "\n",
        "**Jawab** : \n",
        "Permainan Tic-Tac-Toe. Permainan ini merupakan permainan sederhana yang terdiri dari 9 kotak yang berbentuk seperti matriks berukuran 3 x 3. Untuk memenangkan permainan ini, pemain harus mengisi 3 (tiga) kotak secara horizontal, vertical, maupun diagonal dengan symbol X ataupun O sesuai dengan symbol pemain tersebut.\n"
      ],
      "metadata": {
        "id": "C5VIcQSDXJ3l"
      }
    },
    {
      "cell_type": "markdown",
      "source": [
        "2.Jelaskan secara singkat mengapa aplikasi tersebut merupakan aplikasi berbasis RL, jelaskan berdasarkan kesesuaian dengan karakteristik RL!\n",
        "\n",
        "**Jawab :**\n",
        "Kami memilih implementasi permainan tic-tac-toe memiliki pola permainan yang bisa dikatakan sebagai episodic task, jadi agent dapat mempelajari permainan ini menggunakan algoritma pada Reinforcement Learning dengan mengingat/mempelajari setiap langkah-langkah yang pernah dilakukannya untuk menjadi semakin pintar.\n",
        "\n"
      ],
      "metadata": {
        "id": "10Zwr2DZXjIb"
      }
    },
    {
      "cell_type": "markdown",
      "source": [
        "3.Dari aplikasi tersebut, tentukan: (a) Objective (b) State (c) Action (d) Reward (e) Termination.\n",
        "\n",
        "**Jawab :** \n",
        "- **Objective** : memenangkan permainan.\n",
        "- **State** : menunggu, mengecek kotak yang telah diisi oleh human.\n",
        "- **Action** : mengisi kotak yang kosong secara acak, mengisi kotak human yang telah mengisi dua kotak secara sejajar, mengisi kotak agent secara telah diisi sejajar sebelumnya.\n",
        "- **Reward** : mendapatkan point kemenangan.\n",
        "- **Termination** : Human Win ketika human telah mengisi tiga kotak secara sejajar, agent win ketika agent telah megisi tiga kotak secata sejajar, Seri ketika human maupun agent/tidak satupun yang mengisi tiga kota secara sejajar (Horizontal,Vertikal,Diagonal)."
      ],
      "metadata": {
        "id": "MgnQwxOEYPJQ"
      }
    },
    {
      "cell_type": "markdown",
      "source": [
        "4.Berdasarkan 3 nomor diatas, utarakan/jelaskan  pemahaman anda tentang RL, terkait karakteristik, derajat kemudahan/kesulitan untuk diaplikasikan menyelesaikan masalah riil dst.\n",
        "\n",
        "**Jawab :**\n",
        "Menurut kami RL merupakan suatu model belajar dimana mampu melihat situasi dan menentukan keputusan/aksi agar memperoleh hasil terbaik.\n",
        "Dalam mengaplikasikan RL untuk dapat menyelesaikan permainan tic-tac-toe perlu memahami karakter RL itu sendiri untuk bisa memainkannya. Memainkan game tic-tac-toe di RL disebut dengan episodic task, karena agent kita bermain berkali-kali (setiap 1 episode selesai, ia akan memulainya lagi) sampai kita tentukan berapa jumlah maksimal episodes-nya.\n",
        "\n",
        "Sebuah episode Itu semua ditentukan oleh state yang di desain agar 1 episode berakhir. Dalam kasus tic-tac-toe ini ada 2 kondisi (disebut dengan istilah terminal states) yang bisa membuat sebuah episode berakhir, yaitu ketika:\n",
        "1. Salah satu pemain berhasil mengisi tiga kotak secara sejajar (termasuk diagonal), atau\n",
        "2. Semua kotak sudah terisi penuh, sehingga tidak ada kemungkinan pengisian kotak lagi. Jika ini terjadi maka tidak ada yang menang dan tidak ada yang kalan (draw).\n",
        "\n",
        "Agent di tahap-tahap awal (episodes awal) pasti akan banyak melakukan kesalahan / kalah di permainan. Karena itu ia akan belajar episode demi episode. Setiap episode baru dimulai akan seperti permulaan baru bagi agent tersebut, dan agen tersebut akan terus mengakumulasikan (mengumpulkan) pembelajaran dari episodes sebelumnya. Dengan demikian, lama kelamaan agent tersebut akan semakin pintar, bahkan bisa jadi ia tidak akan pernah melakukan kesalahan.\n"
      ],
      "metadata": {
        "id": "oKoC7MRqYdze"
      }
    }
  ]
}