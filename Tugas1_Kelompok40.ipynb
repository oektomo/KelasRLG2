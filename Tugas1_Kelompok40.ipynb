{
  "nbformat": 4,
  "nbformat_minor": 0,
  "metadata": {
    "colab": {
      "name": "Tugas1_Kelompok40.ipynb",
      "provenance": []
    },
    "kernelspec": {
      "name": "python3",
      "display_name": "Python 3"
    },
    "language_info": {
      "name": "python"
    }
  },
  "cells": [
    {
      "cell_type": "markdown",
      "source": [
        "# Tugas 1 Reinforcement Learning"
      ],
      "metadata": {
        "id": "MEQXZcuu1Zr6"
      }
    },
    {
      "cell_type": "markdown",
      "source": [
        "## 1) Implementasi RL"
      ],
      "metadata": {
        "id": "uQsd0C7X1fch"
      }
    },
    {
      "cell_type": "markdown",
      "source": [
        "Autonomous vehicle"
      ],
      "metadata": {
        "id": "FDs980yq5eYb"
      }
    },
    {
      "cell_type": "markdown",
      "source": [
        "## 2) Jelaskan aplikasi implementasi dari RL dan mengapa sangat cocok untuk menggunakan RL"
      ],
      "metadata": {
        "id": "Go-GhDP51n7A"
      }
    },
    {
      "cell_type": "markdown",
      "source": [
        "Implementasi RL dalam autonomus vehicle adalah bagaimana si pengemudi menentukan pilihan - pilihan atau menghitung kemungkinan yang ada untuk mengemudi. RL akan melatih computer untuk menetukan opsi atau pilihan dari berbagai macam input seperti kecematan mobil, rintangan yang akan di lewati, rambu- rambu lalu lintas, dan lain-lain."
      ],
      "metadata": {
        "id": "xjjkSPMY5q0A"
      }
    },
    {
      "cell_type": "markdown",
      "source": [
        "## 3) Dari tentukan :"
      ],
      "metadata": {
        "id": "Sc-YcImu12kz"
      }
    },
    {
      "cell_type": "markdown",
      "source": [
        "### a. Objective"
      ],
      "metadata": {
        "id": "RBw1-gir4RRY"
      }
    },
    {
      "cell_type": "markdown",
      "source": [
        "Mampu mengendarai mobil dengan aman dan sejahtera"
      ],
      "metadata": {
        "id": "FVsHVi6d6N0w"
      }
    },
    {
      "cell_type": "markdown",
      "source": [
        "### b. State"
      ],
      "metadata": {
        "id": "cr4nocsH4UG2"
      }
    },
    {
      "cell_type": "markdown",
      "source": [
        "1. Kecepatan\n",
        "2. Rintangan\n",
        "3. Rambu lalu lintas dan aturannya\n"
      ],
      "metadata": {
        "id": "oMZ4-6wJ6QT-"
      }
    },
    {
      "cell_type": "markdown",
      "source": [
        "### c. Action"
      ],
      "metadata": {
        "id": "0o-6fSN24cbP"
      }
    },
    {
      "cell_type": "markdown",
      "source": [
        "1. Gas\n",
        "2. Rem\n",
        "3. Belok"
      ],
      "metadata": {
        "id": "1SjmSqYL6kBc"
      }
    },
    {
      "cell_type": "markdown",
      "source": [
        "### d. Reward"
      ],
      "metadata": {
        "id": "NyeGnmWb4fJq"
      }
    },
    {
      "cell_type": "markdown",
      "source": [
        "1. Kendaraan dapat menghindar dari rintangan sepanjang perjalanan.\n",
        "2. Dapat sampai ke tujuan dengan waktu paling efisien dan tercepat."
      ],
      "metadata": {
        "id": "cm2EbyOx6nMz"
      }
    },
    {
      "cell_type": "markdown",
      "source": [
        "### e. Termination"
      ],
      "metadata": {
        "id": "5FUimg694iV1"
      }
    },
    {
      "cell_type": "markdown",
      "source": [
        "1. Sampai ke tujuan\n",
        "2. Kendaraan mengalami kecelakaan.\n",
        "3. Kendaraan tidak dapat menyelesaikan perjalanannya\n",
        "4. Human interception"
      ],
      "metadata": {
        "id": "NYQOtvDi60j4"
      }
    },
    {
      "cell_type": "markdown",
      "source": [
        "## 4) Bersadasarkan nomor 3, jelaskan pemahaman anda tentang RL terkait kemudahan/kesulitan, karakteristik untuk menyelesaikan masalah ini !"
      ],
      "metadata": {
        "id": "yf6Uyk1L4oo5"
      }
    },
    {
      "cell_type": "markdown",
      "source": [
        "kesulitan dalam melatih atau mengkode RL untuk memahami sistem moral yang dimiliki oleh manusia"
      ],
      "metadata": {
        "id": "c8eeNx7X7E6m"
      }
    }
  ]
}