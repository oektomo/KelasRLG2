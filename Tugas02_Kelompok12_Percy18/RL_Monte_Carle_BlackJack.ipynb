{
  "nbformat": 4,
  "nbformat_minor": 0,
  "metadata": {
    "colab": {
      "name": "RL Monte Carle BlackJack.ipynb",
      "provenance": [],
      "authorship_tag": "ABX9TyObzWy6QyyA2++M+Iyc/CRy",
      "include_colab_link": true
    },
    "kernelspec": {
      "name": "python3",
      "display_name": "Python 3"
    },
    "language_info": {
      "name": "python"
    }
  },
  "cells": [
    {
      "cell_type": "markdown",
      "metadata": {
        "id": "view-in-github",
        "colab_type": "text"
      },
      "source": [
        "<a href=\"https://colab.research.google.com/github/koalaw4n/RL-Monte-Carle-Blackjack/blob/main/RL_Monte_Carle_BlackJack.ipynb\" target=\"_parent\"><img src=\"https://colab.research.google.com/assets/colab-badge.svg\" alt=\"Open In Colab\"/></a>"
      ]
    },
    {
      "cell_type": "markdown",
      "source": [
        "Impor, gym untuk roulette, numpy untuk matematika, dan matplotlib untuk membuat grafik hasilnya. Jadikan lingkungan blackjack kita. Atur Epsilon menjadi 5% dari waktu memilih tindakan acak. Tetapkan Gamma ke 1, kami tidak akan mempertimbangkan kemungkinan hadiah di masa mendatang karena tidak ada jaminan dalam roulette. Inisialisasi semua yang lain ke 0 atau kosongkan dan ukurannya sesuai dengan dokumentasi roulette gym OpenAI."
      ],
      "metadata": {
        "id": "_iJFxbgYRnXk"
      }
    },
    {
      "cell_type": "code",
      "execution_count": 5,
      "metadata": {
        "id": "arXtlXmiPxbw"
      },
      "outputs": [],
      "source": [
        "import gym\n",
        "import numpy as np\n",
        "import matplotlib.pyplot as plt\n",
        "env = gym.make('Roulette-v0')\n",
        "EPS = 0.05\n",
        "GAMMA = 1.0\n",
        "Q = {}\n",
        "agentSumSpace = [i for i in range(0,37)]\n",
        "actionSpace = [i for i in range(0, 38)]\n",
        "stateSpace = []\n",
        "returns = {}\n",
        "pairsVisited = {}\n",
        "for total in agentSumSpace:\n",
        "    for action in actionSpace:\n",
        "        Q[(total, action)] = 0\n",
        "        returns[(total, action)] = 0\n",
        "        pairsVisited[(total, action)] = 0\n",
        "    stateSpace.append(total)"
      ]
    },
    {
      "cell_type": "markdown",
      "source": [
        "Inisialisasi kebijakan kami secara acak."
      ],
      "metadata": {
        "id": "EMBbSt1CRp76"
      }
    },
    {
      "cell_type": "code",
      "source": [
        "policy = {}\n",
        "for state in stateSpace:\n",
        "    policy[state] = np.random.choice(actionSpace)"
      ],
      "metadata": {
        "id": "mhkUbOyvP2bA"
      },
      "execution_count": 7,
      "outputs": []
    },
    {
      "cell_type": "markdown",
      "source": [
        "Satu juta episode pelatihan seharusnya cukup untuk melatih kebijakan yang baik. Inisialisasi beberapa variabel untuk menggunakan setiap episode. Periksa kemajuan kami setiap seratus ribu episode. Atur ulang lingkungan."
      ],
      "metadata": {
        "id": "eDFuRtsaRw9F"
      }
    },
    {
      "cell_type": "code",
      "source": [
        "numEpisodes = 1000000\n",
        "for i in range(numEpisodes):\n",
        "        statesActionsReturns = []\n",
        "        memory = []\n",
        "        if i % 100000 == 0:\n",
        "            print('starting episode', i)\n",
        "        observation = env.reset()\n",
        "        done = False"
      ],
      "metadata": {
        "colab": {
          "base_uri": "https://localhost:8080/"
        },
        "id": "CUdnCKnfP2mX",
        "outputId": "75ba7825-2b35-47ea-958b-0b5d4d202235"
      },
      "execution_count": 8,
      "outputs": [
        {
          "output_type": "stream",
          "name": "stdout",
          "text": [
            "starting episode 0\n",
            "starting episode 100000\n",
            "starting episode 200000\n",
            "starting episode 300000\n",
            "starting episode 400000\n",
            "starting episode 500000\n",
            "starting episode 600000\n",
            "starting episode 700000\n",
            "starting episode 800000\n",
            "starting episode 900000\n"
          ]
        }
      ]
    },
    {
      "cell_type": "markdown",
      "source": [
        "Sampai permainan selesai, ambil tindakan berdasarkan kebijakan Monte Carlo kami, dan catat hasilnya. Tindakannya adalah memasang taruhan atau bangkit dari meja."
      ],
      "metadata": {
        "id": "QlOV0onkR0sh"
      }
    },
    {
      "cell_type": "code",
      "source": [
        "while not done:\n",
        "    action = policy[observation]\n",
        "    observation_, reward, done, info = env.step(action)\n",
        "    memory.append((observation, action, reward))\n",
        "    observation = observation_\n",
        "memory.append((observation, action, reward))"
      ],
      "metadata": {
        "id": "X_F0FnORP2zy"
      },
      "execution_count": 9,
      "outputs": []
    },
    {
      "cell_type": "markdown",
      "source": [
        "Langkah mundur melalui memori untuk merekam hadiah berdasarkan pasangan status/aksi sebelumnya."
      ],
      "metadata": {
        "id": "xxuc5vq1R47n"
      }
    },
    {
      "cell_type": "code",
      "source": [
        "G = 0\n",
        "last = True\n",
        "for observed, action, reward in reversed(memory):\n",
        "        if last:\n",
        "            last = False\n",
        "        else:\n",
        "            statesActionsReturns.append((observed, action, G))\n",
        "        G = GAMMA*G + reward\n",
        "statesActionsReturns.reverse()\n",
        "statesActionsVisited = []"
      ],
      "metadata": {
        "id": "en39PW7LQA4P"
      },
      "execution_count": 11,
      "outputs": []
    },
    {
      "cell_type": "markdown",
      "source": [
        "Bagian selanjutnya inilah dimana proses keputusan Monte Carlo terjadi. Ini mungkin terlihat menakutkan, tetapi saya akan mencoba menjelaskannya. Kami akan melalui setiap pasangan keadaan/tindakan dan hadiah untuk mengambil tindakan itu saat dalam keadaan itu. Jika pasangan keadaan/tindakan belum dikunjungi sebelum kita membandingkan imbalan dari tindakan lain dari keadaan itu untuk menentukan tindakan terbaik dari keadaan itu. Kami memilih tindakan acak jika seri. Pada awalnya, akan lebih mungkin untuk mengambil tindakan baru, tetapi seiring waktu epsilon akan berkurang dan kami hanya akan mengambil tindakan terbaik yang sudah diketahui."
      ],
      "metadata": {
        "id": "Gz5wPdPyR9Tz"
      }
    },
    {
      "cell_type": "code",
      "source": [
        "for observed, action, G in statesActionsReturns:\n",
        "    sa = (observed, action)\n",
        "    if sa not in statesActionsVisited:\n",
        "        pairsVisited[sa] += 1\n",
        "        returns[(sa)] += (1 / pairsVisited[(sa)])*(G-returns[(sa)])\n",
        "        Q[sa] = returns[sa]\n",
        "        rand = np.random.random()\n",
        "        if rand < 1 - EPS:\n",
        "            state = observed\n",
        "            values = np.array([Q[(state, a)] for a in actionSpace ])\n",
        "            best=np.random.choice(np.where(values==values.max())[0])\n",
        "            policy[state] = actionSpace[best]\n",
        "        else:\n",
        "            policy[state] = np.random.choice(actionSpace)\n",
        "        statesActionsVisited.append(sa)\n",
        "if EPS - 1e-7 > 0:\n",
        "    EPS -= 1e-7\n",
        "else:\n",
        "    EPS = 0"
      ],
      "metadata": {
        "id": "dk-VnTvMQBQp"
      },
      "execution_count": 12,
      "outputs": []
    },
    {
      "cell_type": "markdown",
      "source": [
        "Uji kebijakan Monte Carlo kami yang terlatih."
      ],
      "metadata": {
        "id": "mEAl5I8ASK75"
      }
    },
    {
      "cell_type": "code",
      "source": [
        "numEpisodes = 1000\n",
        "rewards = np.zeros(numEpisodes)\n",
        "totalReward = 0\n",
        "wins = 0\n",
        "losses = 0\n",
        "print('getting ready to test policy')   \n",
        "for i in range(numEpisodes):\n",
        "        observation = env.reset()\n",
        "        done = False\n",
        "        while not done:\n",
        "            action = policy[observation]\n",
        "            observation_, reward, done, info = env.step(action)\n",
        "            observation = observation_\n",
        "        totalReward += reward\n",
        "        rewards[i] = totalReward\n",
        "if reward >= 1:\n",
        "            wins += 1\n",
        "elif reward == -1:\n",
        "            losses += 1"
      ],
      "metadata": {
        "colab": {
          "base_uri": "https://localhost:8080/"
        },
        "id": "SsqqZzYYQIeI",
        "outputId": "b41669e3-7586-492b-b052-ef6d02010129"
      },
      "execution_count": 15,
      "outputs": [
        {
          "output_type": "stream",
          "name": "stdout",
          "text": [
            "getting ready to test policy\n"
          ]
        }
      ]
    },
    {
      "cell_type": "markdown",
      "source": [
        "Cetak hasilnya."
      ],
      "metadata": {
        "id": "3muEO-kbSOyp"
      }
    },
    {
      "cell_type": "code",
      "source": [
        "wins /= numEpisodes\n",
        "losses /= numEpisodes\n",
        "print('win rate', wins, 'loss rate', losses)\n",
        "plt.plot(rewards)\n",
        "plt.show()"
      ],
      "metadata": {
        "colab": {
          "base_uri": "https://localhost:8080/",
          "height": 282
        },
        "id": "HAvCs-btQIyp",
        "outputId": "3c98ad72-2e74-4daf-d318-fb4f7367e238"
      },
      "execution_count": 17,
      "outputs": [
        {
          "output_type": "stream",
          "name": "stdout",
          "text": [
            "win rate 1e-06 loss rate 0.0\n"
          ]
        },
        {
          "output_type": "display_data",
          "data": {
            "text/plain": [
              "<Figure size 432x288 with 1 Axes>"
            ],
            "image/png": "[encoded data removed]"
          },
          "metadata": {
            "needs_background": "light"
          }
        }
      ]
    },
    {
      "cell_type": "markdown",
      "source": [
        "Hasilnya jelas, nol kemenangan dan nol kerugian. Cara terbaik untuk memenangkan roulette adalah dengan tidak bermain sama sekali. Keputusan kebijakan Cheeky Monte Carlo untuk meninggalkan meja setiap pertandingan. Itu benar. Rumah selalu menang, itu adalah permainan yang kalah. Hanya untuk bersenang-senang, mari kita lihat apa yang terjadi jika kami memaksakan kebijakan Monte Carlo kami untuk bermain dengan mengubah satu baris kode."
      ],
      "metadata": {
        "id": "MC46VYeNSW28"
      }
    },
    {
      "cell_type": "code",
      "source": [
        "actionSpace = [i for i in range(0, 38)]"
      ],
      "metadata": {
        "id": "8b6pxH9XQI8X"
      },
      "execution_count": 18,
      "outputs": []
    },
    {
      "cell_type": "markdown",
      "source": [
        "Hapus opsi untuk bangun dari meja."
      ],
      "metadata": {
        "id": "aY0g6-M1ScRg"
      }
    },
    {
      "cell_type": "code",
      "source": [
        "actionSpace = [i for i in range(0, 37)]"
      ],
      "metadata": {
        "id": "AXq6SQJ6QSxv"
      },
      "execution_count": 19,
      "outputs": []
    }
  ]
}