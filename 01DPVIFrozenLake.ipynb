{
  "nbformat": 4,
  "nbformat_minor": 0,
  "metadata": {
    "colab": {
      "name": "DPVIFrozenLake",
      "provenance": [],
      "authorship_tag": "ABX9TyMu6HJXMsnzVgOE0LkdjI2M",
      "include_colab_link": true
    },
    "kernelspec": {
      "name": "python3",
      "display_name": "Python 3"
    },
    "language_info": {
      "name": "python"
    }
  },
  "cells": [
    {
      "cell_type": "markdown",
      "metadata": {
        "id": "view-in-github",
        "colab_type": "text"
      },
      "source": [
        "<a href=\"https://colab.research.google.com/github/oektomo/KelasRLG2/blob/master/DPVIFrozenLake.ipynb\" target=\"_parent\"><img src=\"https://colab.research.google.com/assets/colab-badge.svg\" alt=\"Open In Colab\"/></a>"
      ]
    },
    {
      "cell_type": "code",
      "execution_count": 1,
      "metadata": {
        "id": "0WRVhX-0Kt0R"
      },
      "outputs": [],
      "source": [
        "import gym\n",
        "import numpy as np"
      ]
    },
    {
      "cell_type": "code",
      "source": [
        "def one_step_lookahead(environment, state, V, discount_factor):\n",
        "        action_values = np.zeros(environment.nA)\n",
        "        for action in range(environment.nA):\n",
        "                for probability, next_state, reward, terminated in environment.P[state][action]:\n",
        "                        action_values[action] += probability * (reward + discount_factor * V[next_state])\n",
        "        return action_values"
      ],
      "metadata": {
        "id": "HxBIyNWwLUnj"
      },
      "execution_count": 2,
      "outputs": []
    },
    {
      "cell_type": "code",
      "source": [
        "def value_iteration(environment, discount_factor=0.9, theta=1e-9, max_iterations=1e9):\n",
        "        # Initialize state-value function with zeros for each environment state\n",
        "        V = np.zeros(environment.nS)\n",
        "        for i in range(int(max_iterations)):\n",
        "                # Early stopping condition\n",
        "                delta = 0\n",
        "                # Update each state\n",
        "                for state in range(environment.nS):\n",
        "                        # Do a one-step lookahead to calculate state-action values\n",
        "                        action_value = one_step_lookahead(environment, state, V, discount_factor)\n",
        "                        # Select best action to perform based on the highest state-action value\n",
        "                        best_action_value = np.max(action_value)\n",
        "                        # Calculate change in value\n",
        "                        delta = max(delta, np.abs(V[state] - best_action_value))\n",
        "                        # Update the value function for current state\n",
        "                        V[state] = best_action_value\n",
        "                        # Check if we can stop\n",
        "                if delta < theta:\n",
        "                        print(f'Value-iteration converged at iteration#{i}.')\n",
        "                        break\n",
        "\n",
        "        # Create a deterministic policy using the optimal value function\n",
        "        policy = np.zeros([environment.nS, environment.nA])\n",
        "        for state in range(environment.nS):\n",
        "                # One step lookahead to find the best action for this state\n",
        "                action_value = one_step_lookahead(environment, state, V, discount_factor)\n",
        "                # Select best action based on the highest state-action value\n",
        "                best_action = np.argmax(action_value)\n",
        "                # Update the policy to perform a better action at a current state\n",
        "                policy[state, best_action] = 1.0\n",
        "        return policy, V"
      ],
      "metadata": {
        "id": "NVuXHU13LA5S"
      },
      "execution_count": 3,
      "outputs": []
    },
    {
      "cell_type": "code",
      "source": [
        "environment = gym.make('FrozenLake-v0', is_slippery=False)\n",
        "\n",
        "policy_v, V_v = value_iteration(environment.env)\n",
        "#wins, total_reward, average_reward = play_episodes(environment, n_episodes, policy_v)"
      ],
      "metadata": {
        "colab": {
          "base_uri": "https://localhost:8080/"
        },
        "id": "OeQ71nmRK5zi",
        "outputId": "6abeab63-8444-40e7-e7f0-b93155f96243"
      },
      "execution_count": 7,
      "outputs": [
        {
          "output_type": "stream",
          "name": "stdout",
          "text": [
            "Value-iteration converged at iteration#6.\n"
          ]
        }
      ]
    },
    {
      "cell_type": "code",
      "source": [
        "V_v"
      ],
      "metadata": {
        "colab": {
          "base_uri": "https://localhost:8080/"
        },
        "id": "II9YkTrSMjii",
        "outputId": "75479e30-8031-406a-dbbb-822b4f22ef2f"
      },
      "execution_count": 8,
      "outputs": [
        {
          "output_type": "execute_result",
          "data": {
            "text/plain": [
              "array([0.59049, 0.6561 , 0.729  , 0.6561 , 0.6561 , 0.     , 0.81   ,\n",
              "       0.     , 0.729  , 0.81   , 0.9    , 0.     , 0.     , 0.9    ,\n",
              "       1.     , 0.     ])"
            ]
          },
          "metadata": {},
          "execution_count": 8
        }
      ]
    },
    {
      "cell_type": "code",
      "source": [
        "policy_v"
      ],
      "metadata": {
        "id": "D6SM2fCAMliC",
        "outputId": "7e0df28c-eb13-4af7-ebcb-118e7b9008ec",
        "colab": {
          "base_uri": "https://localhost:8080/"
        }
      },
      "execution_count": 9,
      "outputs": [
        {
          "output_type": "execute_result",
          "data": {
            "text/plain": [
              "array([[0., 1., 0., 0.],\n",
              "       [0., 0., 1., 0.],\n",
              "       [0., 1., 0., 0.],\n",
              "       [1., 0., 0., 0.],\n",
              "       [0., 1., 0., 0.],\n",
              "       [1., 0., 0., 0.],\n",
              "       [0., 1., 0., 0.],\n",
              "       [1., 0., 0., 0.],\n",
              "       [0., 0., 1., 0.],\n",
              "       [0., 1., 0., 0.],\n",
              "       [0., 1., 0., 0.],\n",
              "       [1., 0., 0., 0.],\n",
              "       [1., 0., 0., 0.],\n",
              "       [0., 0., 1., 0.],\n",
              "       [0., 0., 1., 0.],\n",
              "       [1., 0., 0., 0.]])"
            ]
          },
          "metadata": {},
          "execution_count": 9
        }
      ]
    },
    {
      "cell_type": "code",
      "source": [
        "environment.render()"
      ],
      "metadata": {
        "id": "Soa8sI7ktoFu",
        "outputId": "d79aff62-c817-4bbd-99a1-ce79bb1bd180",
        "colab": {
          "base_uri": "https://localhost:8080/"
        }
      },
      "execution_count": 11,
      "outputs": [
        {
          "output_type": "stream",
          "name": "stdout",
          "text": [
            "\n",
            "\u001b[41mS\u001b[0mFFF\n",
            "FHFH\n",
            "FFFH\n",
            "HFFG\n"
          ]
        }
      ]
    },
    {
      "cell_type": "code",
      "source": [
        "environment.P"
      ],
      "metadata": {
        "id": "8l5m7ocOrdCv",
        "outputId": "73ee263a-e0f2-4497-9494-4cf0ed61cf07",
        "colab": {
          "base_uri": "https://localhost:8080/"
        }
      },
      "execution_count": 10,
      "outputs": [
        {
          "output_type": "execute_result",
          "data": {
            "text/plain": [
              "{0: {0: [(1.0, 0, 0.0, False)],\n",
              "  1: [(1.0, 4, 0.0, False)],\n",
              "  2: [(1.0, 1, 0.0, False)],\n",
              "  3: [(1.0, 0, 0.0, False)]},\n",
              " 1: {0: [(1.0, 0, 0.0, False)],\n",
              "  1: [(1.0, 5, 0.0, True)],\n",
              "  2: [(1.0, 2, 0.0, False)],\n",
              "  3: [(1.0, 1, 0.0, False)]},\n",
              " 2: {0: [(1.0, 1, 0.0, False)],\n",
              "  1: [(1.0, 6, 0.0, False)],\n",
              "  2: [(1.0, 3, 0.0, False)],\n",
              "  3: [(1.0, 2, 0.0, False)]},\n",
              " 3: {0: [(1.0, 2, 0.0, False)],\n",
              "  1: [(1.0, 7, 0.0, True)],\n",
              "  2: [(1.0, 3, 0.0, False)],\n",
              "  3: [(1.0, 3, 0.0, False)]},\n",
              " 4: {0: [(1.0, 4, 0.0, False)],\n",
              "  1: [(1.0, 8, 0.0, False)],\n",
              "  2: [(1.0, 5, 0.0, True)],\n",
              "  3: [(1.0, 0, 0.0, False)]},\n",
              " 5: {0: [(1.0, 5, 0, True)],\n",
              "  1: [(1.0, 5, 0, True)],\n",
              "  2: [(1.0, 5, 0, True)],\n",
              "  3: [(1.0, 5, 0, True)]},\n",
              " 6: {0: [(1.0, 5, 0.0, True)],\n",
              "  1: [(1.0, 10, 0.0, False)],\n",
              "  2: [(1.0, 7, 0.0, True)],\n",
              "  3: [(1.0, 2, 0.0, False)]},\n",
              " 7: {0: [(1.0, 7, 0, True)],\n",
              "  1: [(1.0, 7, 0, True)],\n",
              "  2: [(1.0, 7, 0, True)],\n",
              "  3: [(1.0, 7, 0, True)]},\n",
              " 8: {0: [(1.0, 8, 0.0, False)],\n",
              "  1: [(1.0, 12, 0.0, True)],\n",
              "  2: [(1.0, 9, 0.0, False)],\n",
              "  3: [(1.0, 4, 0.0, False)]},\n",
              " 9: {0: [(1.0, 8, 0.0, False)],\n",
              "  1: [(1.0, 13, 0.0, False)],\n",
              "  2: [(1.0, 10, 0.0, False)],\n",
              "  3: [(1.0, 5, 0.0, True)]},\n",
              " 10: {0: [(1.0, 9, 0.0, False)],\n",
              "  1: [(1.0, 14, 0.0, False)],\n",
              "  2: [(1.0, 11, 0.0, True)],\n",
              "  3: [(1.0, 6, 0.0, False)]},\n",
              " 11: {0: [(1.0, 11, 0, True)],\n",
              "  1: [(1.0, 11, 0, True)],\n",
              "  2: [(1.0, 11, 0, True)],\n",
              "  3: [(1.0, 11, 0, True)]},\n",
              " 12: {0: [(1.0, 12, 0, True)],\n",
              "  1: [(1.0, 12, 0, True)],\n",
              "  2: [(1.0, 12, 0, True)],\n",
              "  3: [(1.0, 12, 0, True)]},\n",
              " 13: {0: [(1.0, 12, 0.0, True)],\n",
              "  1: [(1.0, 13, 0.0, False)],\n",
              "  2: [(1.0, 14, 0.0, False)],\n",
              "  3: [(1.0, 9, 0.0, False)]},\n",
              " 14: {0: [(1.0, 13, 0.0, False)],\n",
              "  1: [(1.0, 14, 0.0, False)],\n",
              "  2: [(1.0, 15, 1.0, True)],\n",
              "  3: [(1.0, 10, 0.0, False)]},\n",
              " 15: {0: [(1.0, 15, 0, True)],\n",
              "  1: [(1.0, 15, 0, True)],\n",
              "  2: [(1.0, 15, 0, True)],\n",
              "  3: [(1.0, 15, 0, True)]}}"
            ]
          },
          "metadata": {},
          "execution_count": 10
        }
      ]
    },
    {
      "cell_type": "code",
      "source": [
        ""
      ],
      "metadata": {
        "id": "yOmn8AUftXal"
      },
      "execution_count": null,
      "outputs": []
    }
  ]
}