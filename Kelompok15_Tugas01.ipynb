{
  "nbformat": 4,
  "nbformat_minor": 0,
  "metadata": {
    "colab": {
      "name": "Kelompok15_Tugas01.ipynb",
      "provenance": [],
      "collapsed_sections": []
    },
    "kernelspec": {
      "name": "python3",
      "display_name": "Python 3"
    },
    "language_info": {
      "name": "python"
    }
  },
  "cells": [
    {
      "cell_type": "markdown",
      "source": [
        "#Aktivitas Kelas RL Pertemuan pertama\n",
        "\n",
        "Cari dan tuliskan satu contoh aplikasi/implementasi RL dibidang anda!\n",
        "1. Jelaskan secara singkat mengapa aplikasi tersebut merupakan aplikasi berbasis RL, \n",
        "2. jelaskan berdasarkan kesesuaian dengan karakteristik RL!\n",
        "3. Dari aplikasi tersebut, tentukan: (a) Objective (b) State (c) Action (d) Reward (e) Termination.\n",
        "4. Berdasarkan 3 nomor diatas, utarakan/jelaskan  pemahaman anda tentang RL, terkait karakteristik, derajat kemudahan/kesulitan untuk diaplikasikan menyelesaikan masalah riil dst."
      ],
      "metadata": {
        "id": "TZNuJtjq9eoa"
      }
    },
    {
      "cell_type": "markdown",
      "source": [
        "## Autonomous Car"
      ],
      "metadata": {
        "id": "UGoG_B79avJn"
      }
    },
    {
      "cell_type": "markdown",
      "source": [
        "1. Autonomous car merupakan salah satu teknologi di bidang Artificial Intelligence, yang dapat menggantikan kerja manusia di bidang berkendara mobil. Teknologi ini dapat menerapkan metode reinforcement learning untuk \"belajar berkendara\". Menggunakan system reward - based, berdasarkan output yang diinginkan dengan yang dihasilkan.\n",
        "\n",
        "2. Reinforcement Learning dapat belajar secara mandiri tanpa adanya data awal dan semakin sering digunakan maka semakin cerdas reinforcement learning dalam menangani soalnya.Hal ini cocok dengan autonomus cars dimana pengguna hanya perlu pengawasan apakah autonomus cars sesuai jalur atau tidak dan kemudian autonomus akan bisa menyesuaikan sendiri.\n",
        "\n",
        "\n",
        "3. - Objective : Mobil dapat berkendara secara otomatis/mandiri layaknya dikendarai oleh manusia.\n",
        "  - State : Jalan, Berhenti, Belok, Percepat, Perlambat\n",
        "  - Action : Mobil Dipercepat, Mobil Diperlambat, Mobil Berhenti, Mobil Jalan, Mobil Belok.\n",
        "  - Reward :\n",
        "  \n",
        "    a. Mendapatkan reward positif bila berada di jalur yang tepat, mendapatkan reward negatif bila berada di jalur yang salah.\n",
        "    \n",
        "    b. Mendapatkan reward positif bila berada di kecepatan yang diperbolehkan, mendapatkan reward negatif apabila melewati batas kecepatan.\n",
        "  - Termination : Ketika mobil menabrak maka mobil berhenti.\n",
        "\n",
        "\n",
        "\n",
        "4. - Reinforcment Learning merupakan salah satu algoritma machine learning dimana metode yang digunakan berdasarkan hadiah/hukuman atas perikulaku yang dilakukan.\n",
        "  - Karakteristik : Tidak ada supervisor, hanya ada bilangan real atau reward signal, Pengambilan keputusan berurutan\n",
        "Waktu memainkan peran penting dalam masalah reinforcement\n",
        "Feedback balik selalu tertunda, tidak seketika\n",
        "Action dari sebuah agent menentukan data selanjutnya yang diterimanya.\n",
        "  - a. derajat kemudahan: algoritma dapat mengadaptasi lingkungan dan memiliki peforma yang semakin baik pada jangka panjang\n",
        "\n",
        "    b. derajat kesulitan :\n",
        "sulitnya dalam proses pembelajaran dikarenakan banyaknya kejadian tidak terduga yang dapat terjadi di jalan raya "
      ],
      "metadata": {
        "id": "96OIpAWIc4mf"
      }
    }
  ]
}