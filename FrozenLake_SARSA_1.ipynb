{
 "cells": [
  {
   "cell_type": "markdown",
   "metadata": {
    "id": "Swb78ubSY1DL"
   },
   "source": [
    "Penerapan SARSA pada Frozen lake Environment"
   ]
  },
  {
   "cell_type": "markdown",
   "metadata": {
    "id": "kBx8wgPOYnSW"
   },
   "source": [
    "![image.png](data:image/png;base64,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)"
   ]
  },
  {
   "cell_type": "markdown",
   "metadata": {
    "id": "N_oicsZgYkGZ"
   },
   "source": [
    "Link refrensi code: https://gist.github.com/DataWraith/00a8a834f1e07f713844e549430ad314"
   ]
  },
  {
   "cell_type": "code",
   "execution_count": null,
   "metadata": {
    "id": "U9DJu4JKX-tx"
   },
   "outputs": [],
   "source": [
    "import gym\n",
    "import numpy as np"
   ]
  },
  {
   "cell_type": "code",
   "execution_count": null,
   "metadata": {
    "id": "-F4DkBWQZEep"
   },
   "outputs": [],
   "source": [
    "# This is a straightforwad implementation of SARSA for the FrozenLake OpenAI\n",
    "# Gym testbed. I wrote it mostly to make myself familiar with the OpenAI gym;\n",
    "# the SARSA algorithm was implemented pretty much from the Wikipedia page alone.\n",
    "\n",
    "env = gym.make(\"FrozenLake-v0\")\n",
    "\n",
    "alpha = 0.4\n",
    "gamma = 0.999\n",
    "\n"
   ]
  },
  {
   "cell_type": "code",
   "execution_count": null,
   "metadata": {
    "id": "ipaXJMmJZVcB"
   },
   "outputs": [],
   "source": [
    "def choose_action(observation):\n",
    "    return np.argmax(q_table[observation])\n",
    "\n",
    "q_table = dict([(x, [1, 1, 1, 1]) for x in range(16)])\n",
    "score = []\n",
    "\n"
   ]
  },
  {
   "cell_type": "code",
   "execution_count": null,
   "metadata": {
    "id": "UQmvZZlPZZ30"
   },
   "outputs": [],
   "source": [
    "for i in range(10000):\n",
    "    observation = env.reset()\n",
    "    action = choose_action(observation)\n",
    "\n",
    "    prev_observation = None\n",
    "    prev_action      = None\n",
    "\n",
    "    t = 0\n",
    "\n",
    "    for t in range(2500):\n",
    "        observation, reward, done, info = env.step(action)\n",
    "\n",
    "        action = choose_action(observation)\n",
    "\n",
    "        if not prev_observation is None:\n",
    "            q_old = q_table[prev_observation][prev_action]\n",
    "            q_new = q_old\n",
    "            if done:\n",
    "                q_new += alpha * (reward - q_old)\n",
    "            else:\n",
    "                q_new += alpha * (reward + gamma * q_table[observation][action] - q_old)\n",
    "\n",
    "            new_table = q_table[prev_observation]\n",
    "            new_table[prev_action] = q_new\n",
    "            q_table[prev_observation] = new_table\n",
    "\n",
    "        prev_observation = observation\n",
    "        prev_action = action\n",
    "\n",
    "        if done:\n",
    "            if len(score) < 100:\n",
    "                score.append(reward)\n",
    "            else:\n",
    "                score[i % 100] = reward\n",
    "\n",
    "            print(\"Episode {} finished after {} timesteps with r={}. Running score: {}\".format(i, t, reward, np.mean(score)))\n",
    "            break"
   ]
  },
  {
   "cell_type": "markdown",
   "metadata": {
    "id": "Oq0U1G0VYxun"
   },
   "source": []
  }
 ],
 "metadata": {
  "colab": {
   "name": "FrozenLake-SARSA-1.ipynb",
   "private_outputs": true,
   "provenance": []
  },
  "kernelspec": {
   "display_name": "Python 3 (ipykernel)",
   "language": "python",
   "name": "python3"
  },
  "language_info": {
   "codemirror_mode": {
    "name": "ipython",
    "version": 3
   },
   "file_extension": ".py",
   "mimetype": "text/x-python",
   "name": "python",
   "nbconvert_exporter": "python",
   "pygments_lexer": "ipython3",
   "version": "3.8.10"
  },
  "toc": {
   "base_numbering": 1,
   "nav_menu": {},
   "number_sections": true,
   "sideBar": true,
   "skip_h1_title": false,
   "title_cell": "Table of Contents",
   "title_sidebar": "Contents",
   "toc_cell": false,
   "toc_position": {},
   "toc_section_display": true,
   "toc_window_display": false
  }
 },
 "nbformat": 4,
 "nbformat_minor": 1
}
