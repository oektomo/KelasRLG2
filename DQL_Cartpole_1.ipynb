{
  "cells": [
    {
      "cell_type": "markdown",
      "metadata": {
        "id": "view-in-github",
        "colab_type": "text"
      },
      "source": [
        "<a href=\"https://colab.research.google.com/github/oektomo/KelasRLG2/blob/master/DQL_Cartpole_1.ipynb\" target=\"_parent\"><img src=\"https://colab.research.google.com/assets/colab-badge.svg\" alt=\"Open In Colab\"/></a>"
      ]
    },
    {
      "cell_type": "code",
      "execution_count": null,
      "metadata": {
        "id": "IQd00eaaf53-"
      },
      "outputs": [],
      "source": [
        "# !pip install score\n",
        "# https://gsurma.medium.com/cartpole-introduction-to-reinforcement-learning-ed0eb5b58288"
      ]
    },
    {
      "cell_type": "code",
      "execution_count": null,
      "metadata": {
        "id": "o-dP9nwjVGmn"
      },
      "outputs": [],
      "source": [
        "import random\n",
        "import gym\n",
        "import math\n",
        "import numpy as np\n",
        "import matplotlib.pyplot as plt\n",
        "from collections import deque\n",
        "from keras.models import Sequential\n",
        "from keras.layers import Dense\n",
        "#from keras.optimizers import Adam\n",
        "from tensorflow.keras.optimizers import Adam\n",
        "\n",
        "# from scores.score_logger import ScoreLogger\n",
        "\n",
        "ENV_NAME = \"CartPole-v1\"\n",
        "\n",
        "GAMMA = 0.95\n",
        "LEARNING_RATE = 0.001\n",
        "\n",
        "MEMORY_SIZE = 1000000\n",
        "BATCH_SIZE = 20\n",
        "\n",
        "EXPLORATION_MAX = 1.0\n",
        "EXPLORATION_MIN = 0.01\n",
        "EXPLORATION_DECAY = 0.995"
      ]
    },
    {
      "cell_type": "code",
      "execution_count": null,
      "metadata": {
        "id": "TRLxoXtdVefh"
      },
      "outputs": [],
      "source": [
        "class DQNSolver:\n",
        "  def __init__(self, observation_space, action_space):\n",
        "    self.exploration_rate = EXPLORATION_MAX\n",
        "    \n",
        "    self.action_space = action_space\n",
        "    self.memory = deque(maxlen=MEMORY_SIZE)\n",
        "\n",
        "    self.model = Sequential()\n",
        "    self.model.add(Dense(24, input_shape=(observation_space, ), activation=\"relu\"))\n",
        "    self.model.add(Dense(24, activation=\"relu\"))\n",
        "    self.model.add(Dense(self.action_space, activation=\"linear\"))\n",
        "    # model.compile(optimizer=tf.keras.optimizers.Adam(learning_rate=1e-3),\n",
        "    self.model.compile(loss=\"mse\", optimizer=Adam(learning_rate=LEARNING_RATE))\n",
        "  \n",
        "  def remember(self, state, action, reward, next_state, done):\n",
        "    self.memory.append((state, action, reward, next_state, done))\n",
        "\n",
        "  # choose if we want to explore or use the neural net\n",
        "  def act(self, state):\n",
        "    if np.random.rand() < self.exploration_rate:\n",
        "      return random.randrange(self.action_space)\n",
        "    q_values = self.model.predict(state)\n",
        "    return np.argmax(q_values[0])\n",
        "\n",
        "  # Replay Memory in Experience Replay\n",
        "  def experience_replay(self):\n",
        "    if len(self.memory) < BATCH_SIZE:\n",
        "      return\n",
        "    batch = random.sample(self.memory, BATCH_SIZE)\n",
        "    for state, action, reward, state_next, terminal in batch:\n",
        "      q_update = reward\n",
        "      if not terminal:\n",
        "        q_update = reward + GAMMA * np.amax(self.model.predict(state_next)[0])\n",
        "      q_values = self.model.predict(state)\n",
        "      q_values[0][action] = q_update\n",
        "      self.model.fit(state, q_values, verbose=0)\n",
        "    self.exploration_rate *= EXPLORATION_DECAY\n",
        "    self.exploration_rate = max(EXPLORATION_MIN, self.exploration_rate)"
      ]
    },
    {
      "cell_type": "code",
      "execution_count": null,
      "metadata": {
        "id": "WBqbZjUEe3Io"
      },
      "outputs": [],
      "source": [
        "def cartpole(max_run = 3):\n",
        "    env = gym.make(ENV_NAME)\n",
        "    #score_logger = ScoreLogger(ENV_NAME)\n",
        "    observation_space = env.observation_space.shape[0]\n",
        "    action_space = env.action_space.n\n",
        "    dqn_solver = DQNSolver(observation_space, action_space)\n",
        "    run = 0\n",
        "    score = []\n",
        "    lcpos = [] # longest episode cart position\n",
        "    lcvel = [] # longest episode cart velocity\n",
        "    lpangl = [] # longest episode pole angle\n",
        "    #max_run = 3\n",
        "    while True:\n",
        "        run += 1\n",
        "        state = env.reset()\n",
        "        state = np.reshape(state, [1, observation_space])\n",
        "        step = 0\n",
        "        cpos = []\n",
        "        cvel = []\n",
        "        pangl = []\n",
        "        cpos.append(state[0,0])\n",
        "        cvel.append(state[0,1])\n",
        "        pangl.append(state[0,2])\n",
        "        while True:\n",
        "            step += 1\n",
        "            #env.render()\n",
        "            action = dqn_solver.act(state)\n",
        "            state_next, reward, terminal, info = env.step(action)\n",
        "            cpos.append(state_next[0])\n",
        "            cvel.append(state_next[1])\n",
        "            pangl.append(math.degrees(state_next[2]))\n",
        "            reward = reward if not terminal else -reward\n",
        "            state_next = np.reshape(state_next, [1, observation_space])\n",
        "            dqn_solver.remember(state, action, reward, state_next, terminal)\n",
        "            state = state_next\n",
        "            if terminal:\n",
        "                print (\"Episode: \"+str(run)+\n",
        "                       \", exploration: \"+str(round(dqn_solver.exploration_rate, 3))+\n",
        "                       \", score: \"+str(step)+\n",
        "                       \", pos: \"+str(round(state_next[0,0], 3))+\n",
        "                       \", angle: \"+str(round(math.degrees(state_next[0,2]), 2))+\n",
        "                       \" deg\")\n",
        "                score.append(step)\n",
        "                #if cpos.size > lcpos.size:\n",
        "                if len(cpos) > len(lcpos):\n",
        "                    lcpos = cpos\n",
        "                    lcvel = cvel\n",
        "                    lpangl = pangl\n",
        "                #plt.plot(pangl)\n",
        "                #plt.plot(cvel)\n",
        "                #score_logger.add_score(step, run)\n",
        "                break\n",
        "            dqn_solver.experience_replay()\n",
        "        if run >= max_run:\n",
        "            break\n",
        "    plt.plot(score)\n",
        "    return score, lcpos, lcvel, lpangl\n",
        "    # todo: check the code for saving the longest episode cart speed, cart position, pole angle\n",
        "    # refactor the code to make one list to record angle and score?"
      ]
    },
    {
      "cell_type": "code",
      "execution_count": null,
      "metadata": {
        "colab": {
          "base_uri": "https://localhost:8080/",
          "height": 1000
        },
        "id": "PxZvz9En7hhA",
        "outputId": "83c56ba2-2862-49a8-ac7a-7a50c0fc3f45"
      },
      "outputs": [
        {
          "output_type": "stream",
          "name": "stdout",
          "text": [
            "Episode: 1, exploration: 1.0, score: 14, pos: 0.203, angle: -12.65 deg\n",
            "Episode: 2, exploration: 0.928, score: 21, pos: 0.118, angle: -14.28 deg\n",
            "Episode: 3, exploration: 0.852, score: 18, pos: 0.168, angle: -13.7 deg\n",
            "Episode: 4, exploration: 0.774, score: 20, pos: -0.066, angle: 12.69 deg\n",
            "Episode: 5, exploration: 0.74, score: 10, pos: -0.101, angle: 12.33 deg\n",
            "Episode: 6, exploration: 0.666, score: 22, pos: 0.129, angle: -12.64 deg\n",
            "Episode: 7, exploration: 0.621, score: 15, pos: -0.172, angle: 13.71 deg\n",
            "Episode: 8, exploration: 0.597, score: 9, pos: -0.102, angle: 12.15 deg\n",
            "Episode: 9, exploration: 0.57, score: 10, pos: -0.12, angle: 12.45 deg\n",
            "Episode: 10, exploration: 0.545, score: 10, pos: 0.158, angle: -12.49 deg\n",
            "Episode: 11, exploration: 0.467, score: 32, pos: 0.335, angle: -13.95 deg\n",
            "Episode: 12, exploration: 0.309, score: 83, pos: -0.553, angle: 12.43 deg\n",
            "Episode: 13, exploration: 0.287, score: 16, pos: -0.112, angle: 12.29 deg\n",
            "Episode: 14, exploration: 0.247, score: 31, pos: -0.138, angle: 12.69 deg\n",
            "Episode: 15, exploration: 0.22, score: 24, pos: 0.042, angle: 12.03 deg\n",
            "Episode: 16, exploration: 0.197, score: 23, pos: -0.128, angle: 12.07 deg\n",
            "Episode: 17, exploration: 0.18, score: 19, pos: -0.094, angle: 12.79 deg\n",
            "Episode: 18, exploration: 0.159, score: 26, pos: -0.046, angle: 12.43 deg\n",
            "Episode: 19, exploration: 0.144, score: 21, pos: -0.04, angle: 12.16 deg\n",
            "Episode: 20, exploration: 0.119, score: 38, pos: 0.088, angle: 12.34 deg\n",
            "Episode: 21, exploration: 0.067, score: 116, pos: -0.501, angle: -12.19 deg\n",
            "Episode: 22, exploration: 0.05, score: 58, pos: 0.246, angle: 12.12 deg\n",
            "Episode: 23, exploration: 0.038, score: 60, pos: 0.223, angle: 12.08 deg\n",
            "Episode: 24, exploration: 0.021, score: 117, pos: 0.345, angle: 12.45 deg\n",
            "Episode: 25, exploration: 0.016, score: 56, pos: -0.291, angle: -12.61 deg\n",
            "Episode: 26, exploration: 0.011, score: 82, pos: -0.235, angle: -12.27 deg\n",
            "Episode: 27, exploration: 0.01, score: 113, pos: 0.304, angle: 12.61 deg\n",
            "Episode: 28, exploration: 0.01, score: 48, pos: -0.144, angle: -12.08 deg\n",
            "Episode: 29, exploration: 0.01, score: 68, pos: -0.221, angle: -12.05 deg\n",
            "Episode: 30, exploration: 0.01, score: 60, pos: -0.311, angle: -12.03 deg\n",
            "Episode: 31, exploration: 0.01, score: 63, pos: -0.403, angle: -12.3 deg\n",
            "Episode: 32, exploration: 0.01, score: 83, pos: -0.509, angle: -12.05 deg\n",
            "Episode: 33, exploration: 0.01, score: 97, pos: -0.49, angle: -12.38 deg\n",
            "Episode: 34, exploration: 0.01, score: 116, pos: -0.648, angle: -12.3 deg\n",
            "Episode: 35, exploration: 0.01, score: 111, pos: -0.617, angle: -12.17 deg\n",
            "Episode: 36, exploration: 0.01, score: 96, pos: 0.475, angle: 12.16 deg\n",
            "Episode: 37, exploration: 0.01, score: 186, pos: 1.192, angle: -14.06 deg\n",
            "Episode: 38, exploration: 0.01, score: 480, pos: 1.189, angle: -15.44 deg\n",
            "Episode: 39, exploration: 0.01, score: 192, pos: 1.151, angle: -13.81 deg\n",
            "Episode: 40, exploration: 0.01, score: 126, pos: 1.344, angle: -15.45 deg\n",
            "Episode: 41, exploration: 0.01, score: 260, pos: 1.152, angle: -14.59 deg\n",
            "Episode: 42, exploration: 0.01, score: 221, pos: 1.066, angle: -14.52 deg\n",
            "Episode: 43, exploration: 0.01, score: 136, pos: 1.157, angle: -14.38 deg\n",
            "Episode: 44, exploration: 0.01, score: 404, pos: -2.409, angle: -9.99 deg\n",
            "Episode: 45, exploration: 0.01, score: 116, pos: 1.388, angle: -14.81 deg\n",
            "Episode: 46, exploration: 0.01, score: 296, pos: -2.416, angle: -5.51 deg\n",
            "Episode: 47, exploration: 0.01, score: 198, pos: 1.764, angle: -15.18 deg\n",
            "Episode: 48, exploration: 0.01, score: 147, pos: 1.376, angle: -12.99 deg\n",
            "Episode: 49, exploration: 0.01, score: 232, pos: -2.424, angle: -5.47 deg\n",
            "Episode: 50, exploration: 0.01, score: 223, pos: 1.123, angle: 12.41 deg\n",
            "Episode: 51, exploration: 0.01, score: 163, pos: 0.693, angle: 12.17 deg\n",
            "Episode: 52, exploration: 0.01, score: 119, pos: 0.698, angle: 12.54 deg\n",
            "Episode: 53, exploration: 0.01, score: 105, pos: 0.961, angle: 12.48 deg\n",
            "Episode: 54, exploration: 0.01, score: 271, pos: -2.417, angle: -7.42 deg\n",
            "Episode: 55, exploration: 0.01, score: 241, pos: -2.419, angle: -8.57 deg\n",
            "Episode: 56, exploration: 0.01, score: 258, pos: -2.406, angle: -10.16 deg\n",
            "Episode: 57, exploration: 0.01, score: 288, pos: -2.416, angle: -5.99 deg\n",
            "Episode: 58, exploration: 0.01, score: 198, pos: 1.084, angle: 12.33 deg\n",
            "Episode: 59, exploration: 0.01, score: 25, pos: -0.13, angle: 12.65 deg\n",
            "Episode: 60, exploration: 0.01, score: 145, pos: 1.246, angle: 12.29 deg\n",
            "Episode: 61, exploration: 0.01, score: 144, pos: 2.139, angle: -15.44 deg\n",
            "Episode: 62, exploration: 0.01, score: 120, pos: 1.058, angle: 12.11 deg\n",
            "Episode: 63, exploration: 0.01, score: 225, pos: -2.416, angle: -5.88 deg\n",
            "Episode: 64, exploration: 0.01, score: 96, pos: 0.737, angle: 12.04 deg\n",
            "Episode: 65, exploration: 0.01, score: 151, pos: 1.64, angle: -15.11 deg\n",
            "Episode: 66, exploration: 0.01, score: 109, pos: 1.93, angle: -12.43 deg\n",
            "Episode: 67, exploration: 0.01, score: 183, pos: 1.916, angle: -14.28 deg\n",
            "Episode: 68, exploration: 0.01, score: 82, pos: 1.46, angle: -15.28 deg\n",
            "Episode: 69, exploration: 0.01, score: 134, pos: 1.31, angle: 12.08 deg\n",
            "Episode: 70, exploration: 0.01, score: 153, pos: 1.914, angle: -15.52 deg\n",
            "Episode: 71, exploration: 0.01, score: 114, pos: 1.827, angle: -13.92 deg\n",
            "Episode: 72, exploration: 0.01, score: 234, pos: -1.488, angle: -12.54 deg\n",
            "Episode: 73, exploration: 0.01, score: 146, pos: 1.829, angle: -13.55 deg\n",
            "Episode: 74, exploration: 0.01, score: 146, pos: 1.847, angle: -12.38 deg\n",
            "Episode: 75, exploration: 0.01, score: 130, pos: 1.857, angle: -12.04 deg\n",
            "Episode: 76, exploration: 0.01, score: 268, pos: -2.404, angle: -0.06 deg\n",
            "Episode: 77, exploration: 0.01, score: 133, pos: 2.039, angle: -13.99 deg\n",
            "Episode: 78, exploration: 0.01, score: 123, pos: 2.432, angle: -12.0 deg\n",
            "Episode: 79, exploration: 0.01, score: 212, pos: -2.418, angle: -2.67 deg\n",
            "Episode: 80, exploration: 0.01, score: 39, pos: -0.523, angle: 12.44 deg\n",
            "Episode: 81, exploration: 0.01, score: 211, pos: -2.415, angle: -5.38 deg\n",
            "Episode: 82, exploration: 0.01, score: 119, pos: 2.116, angle: -15.53 deg\n",
            "Episode: 83, exploration: 0.01, score: 112, pos: 1.34, angle: 12.08 deg\n",
            "Episode: 84, exploration: 0.01, score: 143, pos: 2.031, angle: -14.07 deg\n",
            "Episode: 85, exploration: 0.01, score: 211, pos: -2.413, angle: 0.35 deg\n",
            "Episode: 86, exploration: 0.01, score: 141, pos: 2.263, angle: -12.21 deg\n",
            "Episode: 87, exploration: 0.01, score: 293, pos: -2.414, angle: 1.51 deg\n",
            "Episode: 88, exploration: 0.01, score: 96, pos: 1.548, angle: 12.17 deg\n",
            "Episode: 89, exploration: 0.01, score: 293, pos: -2.404, angle: -3.42 deg\n",
            "Episode: 90, exploration: 0.01, score: 186, pos: 1.896, angle: 12.13 deg\n",
            "Episode: 91, exploration: 0.01, score: 133, pos: 2.44, angle: -9.31 deg\n",
            "Episode: 92, exploration: 0.01, score: 134, pos: -2.412, angle: -0.81 deg\n",
            "Episode: 93, exploration: 0.01, score: 130, pos: 2.455, angle: -3.09 deg\n",
            "Episode: 94, exploration: 0.01, score: 162, pos: 2.319, angle: 12.01 deg\n",
            "Episode: 95, exploration: 0.01, score: 114, pos: 1.652, angle: 12.24 deg\n",
            "Episode: 96, exploration: 0.01, score: 119, pos: 1.599, angle: 12.32 deg\n",
            "Episode: 97, exploration: 0.01, score: 145, pos: 1.908, angle: 12.16 deg\n",
            "Episode: 98, exploration: 0.01, score: 115, pos: 2.432, angle: -3.65 deg\n",
            "Episode: 99, exploration: 0.01, score: 155, pos: 2.423, angle: 10.08 deg\n",
            "Episode: 100, exploration: 0.01, score: 182, pos: 2.4, angle: 6.79 deg\n"
          ]
        },
        {
          "output_type": "display_data",
          "data": {
            "text/plain": [
              "<Figure size 432x288 with 1 Axes>"
            ],
            "image/png": "[encoded data removed]"
          },
          "metadata": {
            "needs_background": "light"
          }
        }
      ],
      "source": [
        "score, lcpos, lcvel, lpangl = cartpole(100)"
      ]
    },
    {
      "cell_type": "code",
      "execution_count": null,
      "metadata": {
        "id": "IdogEvndgUX0",
        "colab": {
          "base_uri": "https://localhost:8080/",
          "height": 286
        },
        "outputId": "c39c0ba3-7732-4eb4-b33d-0d8d70b179ce"
      },
      "outputs": [
        {
          "output_type": "execute_result",
          "data": {
            "text/plain": [
              "[<matplotlib.lines.Line2D at 0x7f0a5d834ad0>]"
            ]
          },
          "metadata": {},
          "execution_count": 6
        },
        {
          "output_type": "display_data",
          "data": {
            "text/plain": [
              "<Figure size 432x288 with 1 Axes>"
            ],
            "image/png": "[encoded data removed]"
          },
          "metadata": {
            "needs_background": "light"
          }
        }
      ],
      "source": [
        "plt.plot(score)"
      ]
    },
    {
      "cell_type": "code",
      "execution_count": null,
      "metadata": {
        "id": "fcAz7Y5kO5ch",
        "colab": {
          "base_uri": "https://localhost:8080/",
          "height": 282
        },
        "outputId": "1fe1c51c-0d94-4dee-81d7-9e4f7dae3cf4"
      },
      "outputs": [
        {
          "output_type": "execute_result",
          "data": {
            "text/plain": [
              "[<matplotlib.lines.Line2D at 0x7f0a5b5a26d0>]"
            ]
          },
          "metadata": {},
          "execution_count": 7
        },
        {
          "output_type": "display_data",
          "data": {
            "text/plain": [
              "<Figure size 432x288 with 1 Axes>"
            ],
            "image/png": "[encoded data removed]"
          },
          "metadata": {
            "needs_background": "light"
          }
        }
      ],
      "source": [
        "plt.plot(lcpos)"
      ]
    },
    {
      "cell_type": "code",
      "execution_count": null,
      "metadata": {
        "id": "ynd8OWK-gWfr",
        "colab": {
          "base_uri": "https://localhost:8080/",
          "height": 165
        },
        "outputId": "78a29a0c-05c3-4f38-9f30-c90d2dc3c5a0"
      },
      "outputs": [
        {
          "output_type": "error",
          "ename": "NameError",
          "evalue": "ignored",
          "traceback": [
            "\u001b[0;31m---------------------------------------------------------------------------\u001b[0m",
            "\u001b[0;31mNameError\u001b[0m                                 Traceback (most recent call last)",
            "\u001b[0;32m<ipython-input-8-dc865eb6e78b>\u001b[0m in \u001b[0;36m<module>\u001b[0;34m()\u001b[0m\n\u001b[0;32m----> 1\u001b[0;31m \u001b[0menv\u001b[0m\u001b[0;34m.\u001b[0m\u001b[0mobservation_space\u001b[0m\u001b[0;34m.\u001b[0m\u001b[0mshape\u001b[0m\u001b[0;34m[\u001b[0m\u001b[0;36m0\u001b[0m\u001b[0;34m]\u001b[0m\u001b[0;34m\u001b[0m\u001b[0;34m\u001b[0m\u001b[0m\n\u001b[0m",
            "\u001b[0;31mNameError\u001b[0m: name 'env' is not defined"
          ]
        }
      ],
      "source": [
        "env.observation_space.shape[0]"
      ]
    },
    {
      "cell_type": "code",
      "execution_count": null,
      "metadata": {
        "id": "aXPfB9sYgZSM"
      },
      "outputs": [],
      "source": [
        "env.action_space"
      ]
    },
    {
      "cell_type": "markdown",
      "metadata": {
        "id": "bsxHoE2thI4v"
      },
      "source": [
        "\n",
        "    Observation: \n",
        "        Type: Box(4)\n",
        "\n",
        "    The observation is a `ndarray` with shape `(4,)` with the values corresponding to the following positions and velocities:\n",
        "    | Num | Observation           | Min                  | Max                |\n",
        "    |-----|-----------------------|----------------------|--------------------|\n",
        "    | 0   | Cart Position         | -4.8                 | 4.8                |\n",
        "    | 1   | Cart Velocity         | -Inf                 | Inf                |\n",
        "    | 2   | Pole Angle            | ~ -0.418 rad (-24°)  | ~ 0.418 rad (24°)  |\n",
        "    | 3   | Pole Angular Velocity | -Inf                 | Inf                |\n",
        "    **Note:** While the ranges above denote the possible values for observation space of each element, \n",
        "    it is not reflective of the allowed values of the state space in an unterminated episode. Particularly:\n",
        "    -  The cart x-position (index 0) can be take values between `(-4.8, 4.8)`, but the episode terminates if the cart leaves the `(-2.4, 2.4)` range.\n",
        "    -  The pole angle can be observed between  `(-.418, .418)` radians (or **±24°**), but the episode terminates if the pole angle is not in the range `(-.2095, .2095)` (or **±12°**)\n",
        "\n",
        "\n",
        "    Action:\n",
        "        Type: Discrete(2)\n",
        "        Num\tAction\n",
        "        0\tPush cart to the left\n",
        "        1\tPush cart to the right"
      ]
    },
    {
      "cell_type": "code",
      "execution_count": null,
      "metadata": {
        "id": "AX1NPGC7Pd5U"
      },
      "outputs": [],
      "source": [
        ""
      ]
    }
  ],
  "metadata": {
    "accelerator": "TPU",
    "colab": {
      "collapsed_sections": [],
      "name": "Copy of Copy of DQL-Cartpole - 1",
      "provenance": [],
      "include_colab_link": true
    },
    "kernelspec": {
      "display_name": "Python 3",
      "name": "python3"
    },
    "language_info": {
      "name": "python"
    }
  },
  "nbformat": 4,
  "nbformat_minor": 0
}