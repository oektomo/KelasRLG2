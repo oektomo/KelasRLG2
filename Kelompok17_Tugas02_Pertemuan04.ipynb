{
  "nbformat": 4,
  "nbformat_minor": 0,
  "metadata": {
    "colab": {
      "name": "Kelompok17_Tugas02_Pertemuan04.ipynb",
      "provenance": [],
      "collapsed_sections": []
    },
    "kernelspec": {
      "name": "python3",
      "display_name": "Python 3"
    },
    "language_info": {
      "name": "python"
    }
  },
  "cells": [
    {
      "cell_type": "markdown",
      "source": [
        "# Kelompok 17\n",
        "## Kelas_Nama :\n",
        "- Alan Turing23_Ersa Rosyana\n",
        "- Atlas_Muhammad Iqbal\n",
        "- Better_Farhan Ramadhan\n",
        "- Persevere_Luthfi Al Fikri\n",
        "- Visioner_Dimas Aryanto Wijaya"
      ],
      "metadata": {
        "id": "s9bQN8EcVoCD"
      }
    },
    {
      "cell_type": "code",
      "execution_count": 1,
      "metadata": {
        "colab": {
          "base_uri": "https://localhost:8080/"
        },
        "id": "2b0ZK1GYVelL",
        "outputId": "6409cb26-e64e-4ea3-9bad-1cb53112eec0"
      },
      "outputs": [
        {
          "output_type": "stream",
          "name": "stdout",
          "text": [
            "Walk size =  1  / % of no transport =  100.0\n",
            "Walk size =  2  / % of no transport =  100.0\n",
            "Walk size =  3  / % of no transport =  100.0\n",
            "Walk size =  4  / % of no transport =  100.0\n",
            "Walk size =  5  / % of no transport =  87.74\n",
            "Walk size =  6  / % of no transport =  94.14\n",
            "Walk size =  7  / % of no transport =  77.0\n",
            "Walk size =  8  / % of no transport =  86.31\n",
            "Walk size =  9  / % of no transport =  66.93\n",
            "Walk size =  10  / % of no transport =  79.86999999999999\n",
            "Walk size =  11  / % of no transport =  59.69\n",
            "Walk size =  12  / % of no transport =  72.47\n",
            "Walk size =  13  / % of no transport =  53.55\n",
            "Walk size =  14  / % of no transport =  67.41\n",
            "Walk size =  15  / % of no transport =  48.52\n",
            "Walk size =  16  / % of no transport =  62.81\n",
            "Walk size =  17  / % of no transport =  44.31\n",
            "Walk size =  18  / % of no transport =  58.730000000000004\n",
            "Walk size =  19  / % of no transport =  41.04\n",
            "Walk size =  20  / % of no transport =  53.559999999999995\n",
            "Walk size =  21  / % of no transport =  38.22\n",
            "Walk size =  22  / % of no transport =  50.41\n",
            "Walk size =  23  / % of no transport =  35.57\n",
            "Walk size =  24  / % of no transport =  46.97\n",
            "Walk size =  25  / % of no transport =  33.06\n",
            "Walk size =  26  / % of no transport =  45.81\n",
            "Walk size =  27  / % of no transport =  31.14\n",
            "Walk size =  28  / % of no transport =  43.26\n",
            "Walk size =  29  / % of no transport =  29.68\n",
            "Walk size =  30  / % of no transport =  41.07\n"
          ]
        }
      ],
      "source": [
        "# Menentukan Langkah Kaki Menggunakan Monte Carlo\n",
        "import random\n",
        "\n",
        "def random_walk_2(n):\n",
        "    \"\"\"Return coordinate after 'n' block random walk.\"\"\"\n",
        "    x,y = 0,0\n",
        "    for i in range(n):\n",
        "        dx,dy = random.choice([(0,1), (0,-1), (1,0), (-1,0)])\n",
        "        x += dx\n",
        "        y += dy\n",
        "    return (x, y)\n",
        "\n",
        "number_of_walk = 10000\n",
        "\n",
        "for walk_length in range(1, 31):\n",
        "    no_transport = 0 # number of walk 4 or fewer blocks from home\n",
        "    for i in range(number_of_walk):\n",
        "        (x,y) = random_walk_2(walk_length)\n",
        "        distance = abs(x) + abs(y)\n",
        "        if distance <= 4:\n",
        "            no_transport += 1\n",
        "        \n",
        "    no_transport_percent = float(no_transport) / number_of_walk\n",
        "    print(\"Walk size = \", walk_length, \" / % of no transport = \", 100*no_transport_percent)"
      ]
    },
    {
      "cell_type": "markdown",
      "source": [
        "Impor, gym untuk roulette, numpy untuk matematika, dan matplotlib untuk membuat grafik hasilnya. Jadikan lingkungan blackjack kita. Atur Epsilon menjadi 5% dari waktu memilih tindakan acak. Tetapkan Gamma ke 1, kami tidak akan mempertimbangkan kemungkinan hadiah di masa mendatang karena tidak ada jaminan dalam roulette. Inisialisasi semua yang lain ke 0 atau kosongkan dan ukurannya sesuai dengan dokumentasi roulette gym OpenAI."
      ],
      "metadata": {
        "id": "mjEW5R_nV8xV"
      }
    },
    {
      "cell_type": "code",
      "source": [
        "import gym\n",
        "import numpy as np\n",
        "import matplotlib.pyplot as plt\n",
        "env = gym.make('Roulette-v0')\n",
        "EPS = 0.05\n",
        "GAMMA = 1.0\n",
        "Q = {}\n",
        "agentSumSpace = [i for i in range(0,37)]\n",
        "actionSpace = [i for i in range(0, 38)]\n",
        "stateSpace = []\n",
        "returns = {}\n",
        "pairsVisited = {}\n",
        "for total in agentSumSpace:\n",
        "    for action in actionSpace:\n",
        "        Q[(total, action)] = 0\n",
        "        returns[(total, action)] = 0\n",
        "        pairsVisited[(total, action)] = 0\n",
        "    stateSpace.append(total)"
      ],
      "metadata": {
        "id": "a7xY92BRVyck"
      },
      "execution_count": 2,
      "outputs": []
    },
    {
      "cell_type": "markdown",
      "source": [
        "Inisialisasi kebijakan kami secara acak."
      ],
      "metadata": {
        "id": "8jIaLJXiWCMb"
      }
    },
    {
      "cell_type": "code",
      "source": [
        "policy = {}\n",
        "for state in stateSpace:\n",
        "    policy[state] = np.random.choice(actionSpace)"
      ],
      "metadata": {
        "id": "vIOSA3kJV_wc"
      },
      "execution_count": 3,
      "outputs": []
    },
    {
      "cell_type": "markdown",
      "source": [
        "Satu juta episode pelatihan seharusnya cukup untuk melatih kebijakan yang baik. Inisialisasi beberapa variabel untuk menggunakan setiap episode. Periksa kemajuan kami setiap seratus ribu episode. Atur ulang lingkungan."
      ],
      "metadata": {
        "id": "mak8_OrLWKzc"
      }
    },
    {
      "cell_type": "code",
      "source": [
        "numEpisodes = 1000000\n",
        "for i in range(numEpisodes):\n",
        "        statesActionsReturns = []\n",
        "        memory = []\n",
        "        if i % 100000 == 0:\n",
        "            print('starting episode', i)\n",
        "        observation = env.reset()\n",
        "        done = False"
      ],
      "metadata": {
        "colab": {
          "base_uri": "https://localhost:8080/"
        },
        "id": "Mquz-wsRWJvt",
        "outputId": "72bbcbbd-bd32-4103-c2d2-9629b287d6d0"
      },
      "execution_count": 4,
      "outputs": [
        {
          "output_type": "stream",
          "name": "stdout",
          "text": [
            "starting episode 0\n",
            "starting episode 100000\n",
            "starting episode 200000\n",
            "starting episode 300000\n",
            "starting episode 400000\n",
            "starting episode 500000\n",
            "starting episode 600000\n",
            "starting episode 700000\n",
            "starting episode 800000\n",
            "starting episode 900000\n"
          ]
        }
      ]
    },
    {
      "cell_type": "markdown",
      "source": [
        "Sampai permainan selesai, ambil tindakan berdasarkan kebijakan Monte Carlo kami, dan catat hasilnya. Tindakannya adalah memasang taruhan atau bangkit dari meja."
      ],
      "metadata": {
        "id": "UPeHWluiWR2z"
      }
    },
    {
      "cell_type": "code",
      "source": [
        "while not done:\n",
        "    action = policy[observation]\n",
        "    observation_, reward, done, info = env.step(action)\n",
        "    memory.append((observation, action, reward))\n",
        "    observation = observation_\n",
        "memory.append((observation, action, reward))"
      ],
      "metadata": {
        "id": "65i_NomeWO_t"
      },
      "execution_count": 5,
      "outputs": []
    },
    {
      "cell_type": "markdown",
      "source": [
        "Langkah mundur melalui memori untuk merekam hadiah berdasarkan pasangan status/aksi sebelumnya."
      ],
      "metadata": {
        "id": "mGH-O9HOWXp7"
      }
    },
    {
      "cell_type": "code",
      "source": [
        "G = 0\n",
        "last = True\n",
        "for observed, action, reward in reversed(memory):\n",
        "        if last:\n",
        "            last = False\n",
        "        else:\n",
        "            statesActionsReturns.append((observed, action, G))\n",
        "        G = GAMMA*G + reward\n",
        "statesActionsReturns.reverse()\n",
        "statesActionsVisited = []"
      ],
      "metadata": {
        "id": "NGG6qlm7WU9M"
      },
      "execution_count": 6,
      "outputs": []
    },
    {
      "cell_type": "markdown",
      "source": [
        "Bagian selanjutnya inilah dimana proses keputusan Monte Carlo terjadi. Ini mungkin terlihat menakutkan, tetapi saya akan mencoba menjelaskannya. Kami akan melalui setiap pasangan keadaan/tindakan dan hadiah untuk mengambil tindakan itu saat dalam keadaan itu. Jika pasangan keadaan/tindakan belum dikunjungi sebelum kita membandingkan imbalan dari tindakan lain dari keadaan itu untuk menentukan tindakan terbaik dari keadaan itu. Kami memilih tindakan acak jika seri. Pada awalnya, akan lebih mungkin untuk mengambil tindakan baru, tetapi seiring waktu epsilon akan berkurang dan kami hanya akan mengambil tindakan terbaik yang sudah diketahui."
      ],
      "metadata": {
        "id": "2k_qSkgtWcNM"
      }
    },
    {
      "cell_type": "code",
      "source": [
        "for observed, action, G in statesActionsReturns:\n",
        "    sa = (observed, action)\n",
        "    if sa not in statesActionsVisited:\n",
        "        pairsVisited[sa] += 1\n",
        "        returns[(sa)] += (1 / pairsVisited[(sa)])*(G-returns[(sa)])\n",
        "        Q[sa] = returns[sa]\n",
        "        rand = np.random.random()\n",
        "        if rand < 1 - EPS:\n",
        "            state = observed\n",
        "            values = np.array([Q[(state, a)] for a in actionSpace ])\n",
        "            best=np.random.choice(np.where(values==values.max())[0])\n",
        "            policy[state] = actionSpace[best]\n",
        "        else:\n",
        "            policy[state] = np.random.choice(actionSpace)\n",
        "        statesActionsVisited.append(sa)\n",
        "if EPS - 1e-7 > 0:\n",
        "    EPS -= 1e-7\n",
        "else:\n",
        "    EPS = 0"
      ],
      "metadata": {
        "id": "MatN9fZsWZ_E"
      },
      "execution_count": 7,
      "outputs": []
    },
    {
      "cell_type": "markdown",
      "source": [
        "Uji kebijakan Monte Carlo kami yang terlatih."
      ],
      "metadata": {
        "id": "9HzZrvKKWiK0"
      }
    },
    {
      "cell_type": "code",
      "source": [
        "numEpisodes = 1000\n",
        "rewards = np.zeros(numEpisodes)\n",
        "totalReward = 0\n",
        "wins = 0\n",
        "losses = 0\n",
        "print('getting ready to test policy')   \n",
        "for i in range(numEpisodes):\n",
        "        observation = env.reset()\n",
        "        done = False\n",
        "        while not done:\n",
        "            action = policy[observation]\n",
        "            observation_, reward, done, info = env.step(action)\n",
        "            observation = observation_\n",
        "        totalReward += reward\n",
        "        rewards[i] = totalReward\n",
        "if reward >= 1:\n",
        "            wins += 1\n",
        "elif reward == -1:\n",
        "            losses += 1"
      ],
      "metadata": {
        "colab": {
          "base_uri": "https://localhost:8080/"
        },
        "id": "ZwYRjYUkWe1E",
        "outputId": "93c3c2e7-a52d-4013-a04d-0c6b50561f3f"
      },
      "execution_count": 8,
      "outputs": [
        {
          "output_type": "stream",
          "name": "stdout",
          "text": [
            "getting ready to test policy\n"
          ]
        }
      ]
    },
    {
      "cell_type": "markdown",
      "source": [
        "Cetak hasilnya."
      ],
      "metadata": {
        "id": "Nliq9229Wnr0"
      }
    },
    {
      "cell_type": "code",
      "source": [
        "wins /= numEpisodes\n",
        "losses /= numEpisodes\n",
        "print('win rate', wins, 'loss rate', losses)\n",
        "plt.plot(rewards)\n",
        "plt.show()"
      ],
      "metadata": {
        "colab": {
          "base_uri": "https://localhost:8080/",
          "height": 282
        },
        "id": "lReYp5NaWkoW",
        "outputId": "5ad64fd8-bc90-443c-8e77-5ddaa11c6e44"
      },
      "execution_count": 9,
      "outputs": [
        {
          "output_type": "stream",
          "name": "stdout",
          "text": [
            "win rate 0.001 loss rate 0.0\n"
          ]
        },
        {
          "output_type": "display_data",
          "data": {
            "text/plain": [
              "<Figure size 432x288 with 1 Axes>"
            ],
            "image/png": "[encoded data removed]"
          },
          "metadata": {
            "needs_background": "light"
          }
        }
      ]
    },
    {
      "cell_type": "markdown",
      "source": [
        "Hasilnya jelas, nol kemenangan dan nol kerugian. Cara terbaik untuk memenangkan roulette adalah dengan tidak bermain sama sekali. Keputusan kebijakan Cheeky Monte Carlo untuk meninggalkan meja setiap pertandingan. Itu benar. Rumah selalu menang, itu adalah permainan yang kalah. Hanya untuk bersenang-senang, mari kita lihat apa yang terjadi jika kami memaksakan kebijakan Monte Carlo kami untuk bermain dengan mengubah satu baris kode."
      ],
      "metadata": {
        "id": "Vv1iamj4Wtk0"
      }
    },
    {
      "cell_type": "code",
      "source": [
        "actionSpace = [i for i in range(0, 38)]"
      ],
      "metadata": {
        "id": "pIcC-eIQWp0E"
      },
      "execution_count": 10,
      "outputs": []
    },
    {
      "cell_type": "markdown",
      "source": [
        "Hapus opsi untuk bangun dari meja."
      ],
      "metadata": {
        "id": "Na6DGdvEWwSk"
      }
    },
    {
      "cell_type": "code",
      "source": [
        "actionSpace = [i for i in range(0, 37)]"
      ],
      "metadata": {
        "id": "fJQut58LWvk1"
      },
      "execution_count": 11,
      "outputs": []
    }
  ]
}