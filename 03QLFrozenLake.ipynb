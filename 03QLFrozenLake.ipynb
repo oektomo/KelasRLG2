{
  "cells": [
    {
      "cell_type": "markdown",
      "metadata": {
        "id": "view-in-github",
        "colab_type": "text"
      },
      "source": [
        "<a href=\"https://colab.research.google.com/github/oektomo/KelasRLG2/blob/master/QLFrozenLake.ipynb\" target=\"_parent\"><img src=\"https://colab.research.google.com/assets/colab-badge.svg\" alt=\"Open In Colab\"/></a>"
      ]
    },
    {
      "cell_type": "code",
      "execution_count": 329,
      "id": "7a04b0e6",
      "metadata": {
        "id": "7a04b0e6"
      },
      "outputs": [],
      "source": [
        "\"\"\"\n",
        "Created on Wed Mar 13 00:58:25 2019\n",
        "\n",
        "@author: tawehbeysolow\n",
        "mod by otm for RL-teams in OFA \n",
        "\"\"\"\n",
        "import os, time, gym, numpy as np\n",
        "\n",
        "#Parameters\n",
        "learning_rate = 1e-2\n",
        "gamma = 0.96\n",
        "epsilon = 0.9\n",
        "n_episodes = 10000 # training episode\n",
        "reward_training = []\n",
        "max_steps = 100\n",
        "#environment = gym.make('FrozenLake-v0', is_slippery=False)\n",
        "environment = gym.make('FrozenLake-v0')\n",
        "Q_matrix = np.zeros((environment.observation_space.n, environment.action_space.n))\n",
        "Q_sa = []\n",
        "stateQ = 14\n",
        "actionQ = 2"
      ]
    },
    {
      "cell_type": "code",
      "execution_count": 314,
      "id": "64512f2f",
      "metadata": {
        "id": "64512f2f"
      },
      "outputs": [],
      "source": [
        "def choose_action(state):\n",
        "    '''\n",
        "    To be used after Q table has been updated, returns an action\n",
        "    \n",
        "    Parameters:\n",
        "        \n",
        "        state - int - the current state of the agent \n",
        "        \n",
        "    :return: int\n",
        "    '''   \n",
        "    return np.argmax(Q_matrix[state, :])"
      ]
    },
    {
      "cell_type": "code",
      "execution_count": 315,
      "id": "4469e540",
      "metadata": {
        "id": "4469e540"
      },
      "outputs": [],
      "source": [
        "def exploit_explore(prior_state, epsilon=epsilon, Q_matrix=Q_matrix):    \n",
        "    '''\n",
        "    One half of the exploit-explore paradigm that we will utilize \n",
        "    \n",
        "    Parameters \n",
        "        \n",
        "        prior_state - int  - the prior state of the environment at a given iteration\n",
        "        epsilon - float - parameter that we use to determine whether we will try a new or current best action \n",
        "        \n",
        "    :return: int\n",
        "    '''\n",
        "    \n",
        "    if np.random.uniform(0, 1) < epsilon: # choose random action\n",
        "        return environment.action_space.sample()\n",
        "    else: # choose the best value\n",
        "        return np.argmax(Q_matrix[prior_state, :])"
      ]
    },
    {
      "cell_type": "code",
      "execution_count": 334,
      "id": "4f360650",
      "metadata": {
        "id": "4f360650"
      },
      "outputs": [],
      "source": [
        "def update_q_matrix(prior_state, observation , reward, action):\n",
        "    '''\n",
        "    Algorithm that updates the values in the Q table to reflect knowledge acquired by the agent \n",
        "    \n",
        "    Parameters \n",
        "    \n",
        "        prior_state - int  - the prior state of the environment before the current timestemp\n",
        "        observation - int  - the current state of the environment\n",
        "        reward - int - the reward yielded from the environment after an action \n",
        "        action - int - the action suggested by the epsilon greedy algorithm \n",
        "        \n",
        "    :return: None\n",
        "    '''\n",
        "    \n",
        "    prediction = Q_matrix[prior_state, action]\n",
        "    actual_label = reward + gamma * np.max(Q_matrix[observation, :])\n",
        "    Q_matrix[prior_state, action] = Q_matrix[prior_state, action] + learning_rate*(actual_label - prediction)\n",
        "    if(prior_state == stateQ):\n",
        "      Q_sa.append(Q_matrix[stateQ, actionQ])\n",
        "    "
      ]
    },
    {
      "cell_type": "code",
      "execution_count": 317,
      "id": "b145a8f7",
      "metadata": {
        "id": "b145a8f7"
      },
      "outputs": [],
      "source": [
        "def populate_q_matrix(render=False, n_episodes=n_episodes):\n",
        "    '''\n",
        "    Directly implementing Q Learning (Greedy Epsilon) on the Frozen Lake Game\n",
        "    This function populations the empty Q matrix \n",
        "    Parameters \n",
        "    \n",
        "        prior_state - int  - the prior state of the environment before the current timestemp\n",
        "        observation - int  - the current state of the environment\n",
        "        reward - int - the reward yielded from the environment after an action \n",
        "        action - int - the action suggested by the epsilon greedy algorithm \n",
        "        \n",
        "    :return: None\n",
        "    '''    \n",
        "    \n",
        "    for episode in range(n_episodes):\n",
        "        prior_state = environment.reset()\n",
        "        _ = 0\n",
        "        \n",
        "        while _ < max_steps:\n",
        "            \n",
        "            if render == True: environment.render()\n",
        "            action = exploit_explore(prior_state)  \n",
        "            observation, reward, done, info = environment.step(action)      \n",
        "            \n",
        "            update_q_matrix(prior_state=prior_state, \n",
        "                            observation=observation, \n",
        "                            reward=reward, \n",
        "                            action=action)\n",
        "            \n",
        "            prior_state = observation\n",
        "            _ += 1\n",
        "            \n",
        "            if done:\n",
        "                reward_training.append(reward)\n",
        "                break"
      ]
    },
    {
      "cell_type": "code",
      "execution_count": 318,
      "id": "60ce26a4",
      "metadata": {
        "id": "60ce26a4"
      },
      "outputs": [],
      "source": [
        "def play_frozen_lake(n_episodes):\n",
        "    \n",
        "    '''\n",
        "    Directly implementing Q Learning (Greedy Epsilon) on the Frozen Lake Game\n",
        "    This function uses the already populated Q Matrix and displays the game being used\n",
        "    \n",
        "    Parameters \n",
        "    \n",
        "        prior_state - int  - the prior state of the environment before the current timestemp\n",
        "        observation - int  - the current state of the environment\n",
        "        reward - int - the reward yielded from the environment after an action \n",
        "        action - int - the action suggested by the epsilon greedy algorithm \n",
        "        \n",
        "    :return: None\n",
        "    '''        \n",
        "    \n",
        "    lost = 0\n",
        "    won = 0\n",
        "    for episode in range(n_episodes):\n",
        "        #print('Episode: %s'%(episode+1))\n",
        "        prior_state = environment.reset()\n",
        "        done = False\n",
        "\n",
        "        while not done: \n",
        "            #environment.render()\n",
        "            action = choose_action(prior_state)\n",
        "            observation, reward, done, info = environment.step(action)\n",
        "            prior_state = observation\n",
        "            #print(action)\n",
        "\n",
        "            #if reward == 0:\n",
        "                #time.sleep(0.5)\n",
        "                #print(action)                \n",
        "            #else:\n",
        "            if reward != 0:\n",
        "                #print('You have won on episode %s!'%(episode+1))\n",
        "                #time.sleep(5)\n",
        "                won = won + 1\n",
        "                os.system('clear')\n",
        "                break\n",
        "\n",
        "            if done and reward == -1:\n",
        "                #print('You have lost this episode... :-/')\n",
        "                #print('You have lost on episode %s!'%(episode+1))\n",
        "                #time.sleep(5)\n",
        "                lost = lost + 1\n",
        "                os.system('clear')\n",
        "                break\n",
        "\n",
        "            if done and reward == 0:\n",
        "                #print('You have lost on episode %s!'%(episode+1))\n",
        "                #environment.render()\n",
        "                #action = choose_action(prior_state)\n",
        "                #observation, reward, done, info = environment.step(action)\n",
        "                lost = lost + 1\n",
        "                break\n",
        "        #environment.render()\n",
        "    print('won:',won,' lost:',lost)\n",
        "    \n",
        "    print(f'number of wins over {n_episodes} episodes = {won}')\n",
        "    print(f'total reward over {n_episodes} episodes = {won}')\n",
        "    print(f'average reward over {n_episodes} episodes = {won/n_episodes}')"
      ]
    },
    {
      "cell_type": "code",
      "execution_count": 340,
      "id": "a927a0c6",
      "metadata": {
        "colab": {
          "base_uri": "https://localhost:8080/"
        },
        "id": "a927a0c6",
        "outputId": "a1f35222-94f8-4fa6-cd6a-1ff7381fabdf"
      },
      "outputs": [
        {
          "output_type": "stream",
          "name": "stdout",
          "text": [
            "won: 7269  lost: 2731\n",
            "number of wins over 10000 episodes = 7269\n",
            "total reward over 10000 episodes = 7269\n",
            "average reward over 10000 episodes = 0.7269\n"
          ]
        }
      ],
      "source": [
        "populate_q_matrix(render=False) # Training\n",
        "play_frozen_lake(n_episodes=10000) # Playing"
      ]
    },
    {
      "cell_type": "code",
      "execution_count": 320,
      "id": "43dfdb7e",
      "metadata": {
        "colab": {
          "base_uri": "https://localhost:8080/",
          "height": 282
        },
        "id": "43dfdb7e",
        "outputId": "4470f976-39b0-49ff-8bce-0fc629e8c8df"
      },
      "outputs": [
        {
          "output_type": "execute_result",
          "data": {
            "text/plain": [
              "[<matplotlib.lines.Line2D at 0x7fc3ac4046d0>]"
            ]
          },
          "metadata": {},
          "execution_count": 320
        },
        {
          "output_type": "display_data",
          "data": {
            "text/plain": [
              "<Figure size 432x288 with 1 Axes>"
            ],
            "image/png": "[encoded data removed]"
          },
          "metadata": {
            "needs_background": "light"
          }
        }
      ],
      "source": [
        "import matplotlib.pyplot as plt\n",
        "plt.plot(reward_training[0:100])"
      ]
    },
    {
      "cell_type": "code",
      "source": [
        "lenreward = len(reward_training)\n",
        "plt.plot(reward_training[lenreward-101:lenreward-1])"
      ],
      "metadata": {
        "colab": {
          "base_uri": "https://localhost:8080/",
          "height": 282
        },
        "id": "A-hg-NRO3uFQ",
        "outputId": "2c60b27e-ec42-4ed8-d661-8dd4d287667d"
      },
      "id": "A-hg-NRO3uFQ",
      "execution_count": 321,
      "outputs": [
        {
          "output_type": "execute_result",
          "data": {
            "text/plain": [
              "[<matplotlib.lines.Line2D at 0x7fc3ac3e6050>]"
            ]
          },
          "metadata": {},
          "execution_count": 321
        },
        {
          "output_type": "display_data",
          "data": {
            "text/plain": [
              "<Figure size 432x288 with 1 Axes>"
            ],
            "image/png": "[encoded data removed]"
          },
          "metadata": {
            "needs_background": "light"
          }
        }
      ]
    },
    {
      "cell_type": "code",
      "source": [
        "import pandas as pd\n",
        "import math\n",
        "window_size = math.ceil(lenreward/10)\n",
        "number_series = pd.Series(reward_training)\n",
        "windows = number_series.rolling(window_size)\n",
        "moving_averages = windows.mean()\n",
        "moving_averages_list = moving_averages.tolist()\n",
        "final_list = moving_averages_list[window_size-1:]\n",
        "plt.plot(final_list)"
      ],
      "metadata": {
        "colab": {
          "base_uri": "https://localhost:8080/",
          "height": 282
        },
        "id": "p_HUNu0hxz1g",
        "outputId": "c2a15135-4880-4ded-c36a-2aa1331c594c"
      },
      "id": "p_HUNu0hxz1g",
      "execution_count": 322,
      "outputs": [
        {
          "output_type": "execute_result",
          "data": {
            "text/plain": [
              "[<matplotlib.lines.Line2D at 0x7fc3ac325450>]"
            ]
          },
          "metadata": {},
          "execution_count": 322
        },
        {
          "output_type": "display_data",
          "data": {
            "text/plain": [
              "<Figure size 432x288 with 1 Axes>"
            ],
            "image/png": "[encoded data removed]"
          },
          "metadata": {
            "needs_background": "light"
          }
        }
      ]
    },
    {
      "cell_type": "code",
      "source": [
        "len(moving_averages_list)"
      ],
      "metadata": {
        "colab": {
          "base_uri": "https://localhost:8080/"
        },
        "id": "gvBfw-eSyKMh",
        "outputId": "9d71bd31-9e8f-4f9f-ceed-2542e70c6e2a"
      },
      "id": "gvBfw-eSyKMh",
      "execution_count": 323,
      "outputs": [
        {
          "output_type": "execute_result",
          "data": {
            "text/plain": [
              "10000"
            ]
          },
          "metadata": {},
          "execution_count": 323
        }
      ]
    },
    {
      "cell_type": "code",
      "source": [
        "Q_matrix"
      ],
      "metadata": {
        "colab": {
          "base_uri": "https://localhost:8080/"
        },
        "id": "E1L8Uq4T0XO4",
        "outputId": "6de5001b-4749-4676-ac14-87731fb72c03"
      },
      "id": "E1L8Uq4T0XO4",
      "execution_count": 339,
      "outputs": [
        {
          "output_type": "execute_result",
          "data": {
            "text/plain": [
              "array([[0.13048398, 0.12361969, 0.12482412, 0.11819211],\n",
              "       [0.07786007, 0.08579662, 0.06808421, 0.11171856],\n",
              "       [0.11141507, 0.10551016, 0.10374572, 0.1008466 ],\n",
              "       [0.05648361, 0.05921402, 0.05511596, 0.09344425],\n",
              "       [0.14989863, 0.10086732, 0.10123404, 0.08624766],\n",
              "       [0.        , 0.        , 0.        , 0.        ],\n",
              "       [0.12255918, 0.07586143, 0.12240292, 0.03181031],\n",
              "       [0.        , 0.        , 0.        , 0.        ],\n",
              "       [0.10586887, 0.13934344, 0.13663164, 0.18441741],\n",
              "       [0.15991144, 0.25413173, 0.21317985, 0.1457902 ],\n",
              "       [0.28549137, 0.24972154, 0.25971154, 0.11962172],\n",
              "       [0.        , 0.        , 0.        , 0.        ],\n",
              "       [0.        , 0.        , 0.        , 0.        ],\n",
              "       [0.16680112, 0.29785606, 0.37154975, 0.21955996],\n",
              "       [0.34774883, 0.62138248, 0.5733526 , 0.48174539],\n",
              "       [0.        , 0.        , 0.        , 0.        ]])"
            ]
          },
          "metadata": {},
          "execution_count": 339
        }
      ]
    },
    {
      "cell_type": "code",
      "source": [
        "np.max(Q_matrix[1, :])"
      ],
      "metadata": {
        "id": "liZ_BOiTVysm",
        "outputId": "95a74d34-e85e-47fa-cea4-344d0762555a",
        "colab": {
          "base_uri": "https://localhost:8080/"
        }
      },
      "id": "liZ_BOiTVysm",
      "execution_count": 327,
      "outputs": [
        {
          "output_type": "execute_result",
          "data": {
            "text/plain": [
              "0.07908615006453767"
            ]
          },
          "metadata": {},
          "execution_count": 327
        }
      ]
    },
    {
      "cell_type": "code",
      "source": [
        "populate_q_matrix(render=False) # Training"
      ],
      "metadata": {
        "id": "q3Hz3r6jV_Nd"
      },
      "id": "q3Hz3r6jV_Nd",
      "execution_count": 337,
      "outputs": []
    },
    {
      "cell_type": "code",
      "source": [
        "plt.plot(Q_sa)"
      ],
      "metadata": {
        "id": "FbwZlVmxWuut",
        "outputId": "ffeabb2c-10a4-40e2-b938-dc544ba3be98",
        "colab": {
          "base_uri": "https://localhost:8080/",
          "height": 282
        }
      },
      "id": "FbwZlVmxWuut",
      "execution_count": 338,
      "outputs": [
        {
          "output_type": "execute_result",
          "data": {
            "text/plain": [
              "[<matplotlib.lines.Line2D at 0x7fc3abf51910>]"
            ]
          },
          "metadata": {},
          "execution_count": 338
        },
        {
          "output_type": "display_data",
          "data": {
            "text/plain": [
              "<Figure size 432x288 with 1 Axes>"
            ],
            "image/png": "[encoded data removed]"
          },
          "metadata": {
            "needs_background": "light"
          }
        }
      ]
    },
    {
      "cell_type": "code",
      "source": [
        ""
      ],
      "metadata": {
        "id": "yEZfQo2hW7YE"
      },
      "id": "yEZfQo2hW7YE",
      "execution_count": null,
      "outputs": []
    }
  ],
  "metadata": {
    "kernelspec": {
      "display_name": "Python 3 (ipykernel)",
      "language": "python",
      "name": "python3"
    },
    "language_info": {
      "codemirror_mode": {
        "name": "ipython",
        "version": 3
      },
      "file_extension": ".py",
      "mimetype": "text/x-python",
      "name": "python",
      "nbconvert_exporter": "python",
      "pygments_lexer": "ipython3",
      "version": "3.8.10"
    },
    "toc": {
      "base_numbering": 1,
      "nav_menu": {},
      "number_sections": true,
      "sideBar": true,
      "skip_h1_title": false,
      "title_cell": "Table of Contents",
      "title_sidebar": "Contents",
      "toc_cell": false,
      "toc_position": {},
      "toc_section_display": true,
      "toc_window_display": false
    },
    "colab": {
      "name": "QLFrozenLake.ipynb",
      "provenance": [],
      "include_colab_link": true
    },
    "accelerator": "TPU"
  },
  "nbformat": 4,
  "nbformat_minor": 5
}