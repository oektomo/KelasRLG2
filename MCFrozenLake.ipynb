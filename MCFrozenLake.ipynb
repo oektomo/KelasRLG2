{
  "cells": [
    {
      "cell_type": "markdown",
      "metadata": {
        "id": "view-in-github",
        "colab_type": "text"
      },
      "source": [
        "<a href=\"https://colab.research.google.com/github/oektomo/KelasRLG2/blob/master/MCFrozenLake.ipynb\" target=\"_parent\"><img src=\"https://colab.research.google.com/assets/colab-badge.svg\" alt=\"Open In Colab\"/></a>"
      ]
    },
    {
      "cell_type": "code",
      "execution_count": null,
      "id": "317cbe6a",
      "metadata": {
        "id": "317cbe6a",
        "outputId": "97e02205-dbac-49e7-9b4c-9558d0accc1b"
      },
      "outputs": [
        {
          "name": "stdout",
          "output_type": "stream",
          "text": [
            "Collecting tqdm\n",
            "  Downloading tqdm-4.63.1-py2.py3-none-any.whl (76 kB)\n",
            "\u001b[2K     \u001b[90m━━━━━━━━━━━━━━━━━━━━━━━━━━━━━━━━━━━━━━━━\u001b[0m \u001b[32m76.6/76.6 KB\u001b[0m \u001b[31m1.3 MB/s\u001b[0m eta \u001b[36m0:00:00\u001b[0ma \u001b[36m0:00:01\u001b[0m\n",
            "\u001b[?25hInstalling collected packages: tqdm\n",
            "Successfully installed tqdm-4.63.1\n",
            "\u001b[33mWARNING: You are using pip version 22.0.3; however, version 22.0.4 is available.\n",
            "You should consider upgrading via the '/home/otm/notebook/jupyterenv/bin/python -m pip install --upgrade pip' command.\u001b[0m\u001b[33m\n",
            "\u001b[0m"
          ]
        }
      ],
      "source": [
        "!pip install tqdm"
      ]
    },
    {
      "cell_type": "code",
      "execution_count": 1,
      "id": "dca12537",
      "metadata": {
        "id": "dca12537"
      },
      "outputs": [],
      "source": [
        "# https://www.analyticsvidhya.com/blog/2018/11/reinforcement-learning-introduction-monte-carlo-learning-openai-gym/\n",
        "import gym\n",
        "import numpy as np\n",
        "import operator\n",
        "from IPython.display import clear_output\n",
        "from time import sleep\n",
        "import random\n",
        "import itertools\n",
        "import tqdm\n",
        "\n",
        "tqdm.monitor_interval = 0"
      ]
    },
    {
      "cell_type": "code",
      "execution_count": 3,
      "id": "e73ef2ec",
      "metadata": {
        "id": "e73ef2ec"
      },
      "outputs": [],
      "source": [
        "env = gym.make('FrozenLake-v0')"
      ]
    },
    {
      "cell_type": "code",
      "execution_count": 4,
      "id": "ce902407",
      "metadata": {
        "id": "ce902407"
      },
      "outputs": [],
      "source": [
        "def create_random_policy(env):\n",
        "     policy = {}\n",
        "     for key in range(0, env.observation_space.n):\n",
        "          current_end = 0\n",
        "          p = {}\n",
        "          for action in range(0, env.action_space.n):\n",
        "               p[action] = 1 / env.action_space.n\n",
        "          policy[key] = p\n",
        "     return policy"
      ]
    },
    {
      "cell_type": "code",
      "execution_count": 5,
      "id": "b3ad50d7",
      "metadata": {
        "id": "b3ad50d7"
      },
      "outputs": [],
      "source": [
        "def create_state_action_dictionary(env, policy):\n",
        "    Q = {}\n",
        "    for key in policy.keys():\n",
        "         Q[key] = {a: 0.0 for a in range(0, env.action_space.n)}\n",
        "    return Q"
      ]
    },
    {
      "cell_type": "code",
      "execution_count": 6,
      "id": "772e87dc",
      "metadata": {
        "id": "772e87dc"
      },
      "outputs": [],
      "source": [
        "def run_game(env, policy, display=True):\n",
        "     env.reset()\n",
        "     episode = []\n",
        "     finished = False\n",
        "\n",
        "     while not finished:\n",
        "          s = env.env.s\n",
        "          if display:\n",
        "               clear_output(True)\n",
        "               env.render()\n",
        "               sleep(1)\n",
        "\n",
        "          timestep = []\n",
        "          timestep.append(s)\n",
        "          n = random.uniform(0, sum(policy[s].values()))\n",
        "          top_range = 0\n",
        "          for prob in policy[s].items():\n",
        "                 top_range += prob[1]\n",
        "                 if n < top_range:\n",
        "                       action = prob[0]\n",
        "                       break \n",
        "          state, reward, finished, info = env.step(action)\n",
        "          timestep.append(action)\n",
        "          timestep.append(reward)\n",
        "\n",
        "          episode.append(timestep)\n",
        "\n",
        "     if display:\n",
        "          clear_output(True)\n",
        "          env.render()\n",
        "          sleep(1)\n",
        "     return episode"
      ]
    },
    {
      "cell_type": "code",
      "execution_count": 7,
      "id": "13770a73",
      "metadata": {
        "id": "13770a73"
      },
      "outputs": [],
      "source": [
        "def monte_carlo_e_soft(env, episodes, policy=None, epsilon=0.01):\n",
        "\n",
        "    if not policy:\n",
        "        policy = create_random_policy(env)  # Create an empty dictionary to store state action values    \n",
        "    Q = create_state_action_dictionary(env, policy) # Empty dictionary for storing rewards for each state-action pair\n",
        "    returns = {} # 3.\n",
        "    \n",
        "    for _ in range(episodes): # Looping through episodes\n",
        "        G = 0 # Store cumulative reward in G (initialized at 0)\n",
        "        episode = run_game(env=env, policy=policy, display=False) # Store state, action and value respectively \n",
        "        \n",
        "        # for loop through reversed indices of episode array. \n",
        "        # The logic behind it being reversed is that the eventual reward would be at the end. \n",
        "        # So we have to go back from the last timestep to the first one propagating result from the future.\n",
        "        \n",
        "        for i in reversed(range(0, len(episode))):   \n",
        "            s_t, a_t, r_t = episode[i] \n",
        "            state_action = (s_t, a_t)\n",
        "\n",
        "            G += r_t # Increment total reward by reward on current timestep\n",
        "            \n",
        "\n",
        "            if not state_action in [(x[0], x[1]) for x in episode[0:i]]: # \n",
        "                if returns.get(state_action):\n",
        "                    returns[state_action].append(G)\n",
        "                else:\n",
        "                    returns[state_action] = [G]     \n",
        "                Q[s_t][a_t] = sum(returns[state_action]) / len(returns[state_action]) # Average reward across episodes\n",
        "                \n",
        "                Q_list = list(map(lambda x: x[1], Q[s_t].items())) # Finding the action with maximum value\n",
        "                indices = [i for i, x in enumerate(Q_list) if x == max(Q_list)]\n",
        "                max_Q = random.choice(indices)\n",
        "                \n",
        "                A_star = max_Q # 14.\n",
        "                \n",
        "                for a in policy[s_t].items(): # Update action probability for s_t in policy\n",
        "                    if a[0] == A_star:\n",
        "                        policy[s_t][a[0]] = 1 - epsilon + (epsilon / abs(sum(policy[s_t].values())))\n",
        "                    else:\n",
        "                        policy[s_t][a[0]] = (epsilon / abs(sum(policy[s_t].values())))      \n",
        "    return policy"
      ]
    },
    {
      "cell_type": "code",
      "execution_count": 8,
      "id": "c4d954c8",
      "metadata": {
        "id": "c4d954c8"
      },
      "outputs": [],
      "source": [
        "def test_policy(policy, env, episodes):\n",
        "      wins = 0\n",
        "      total_reward = 0\n",
        "      for i in range(episodes):\n",
        "            w = run_game(env, policy, display=False)[-1][-1]\n",
        "            if w == 1:\n",
        "                  wins += 1\n",
        "                  total_reward += 1\n",
        "      #average_reward = total_reward / episodes\n",
        "      return wins, total_reward"
      ]
    },
    {
      "cell_type": "code",
      "execution_count": 9,
      "id": "4fac979b",
      "metadata": {
        "id": "4fac979b",
        "outputId": "484e9b13-0494-42f6-a936-50b7c7ce0211",
        "colab": {
          "base_uri": "https://localhost:8080/"
        }
      },
      "outputs": [
        {
          "output_type": "stream",
          "name": "stdout",
          "text": [
            "number of wins over 10000 episodes = 4861\n",
            "total reward over 10000 episodes = 4861\n",
            "average reward over 10000 episodes = 0.4861\n"
          ]
        }
      ],
      "source": [
        "episodes = 10000\n",
        "policy = monte_carlo_e_soft(env, episodes)\n",
        "wins, total_reward = test_policy(policy, env, episodes)\n",
        "average_reward = total_reward / episodes\n",
        "\n",
        "print(f'number of wins over {episodes} episodes = {wins}')\n",
        "print(f'total reward over {episodes} episodes = {total_reward}')\n",
        "print(f'average reward over {episodes} episodes = {average_reward}')"
      ]
    },
    {
      "cell_type": "code",
      "execution_count": null,
      "id": "b3e6a320",
      "metadata": {
        "id": "b3e6a320"
      },
      "outputs": [],
      "source": [
        ""
      ]
    }
  ],
  "metadata": {
    "kernelspec": {
      "display_name": "Python 3 (ipykernel)",
      "language": "python",
      "name": "python3"
    },
    "language_info": {
      "codemirror_mode": {
        "name": "ipython",
        "version": 3
      },
      "file_extension": ".py",
      "mimetype": "text/x-python",
      "name": "python",
      "nbconvert_exporter": "python",
      "pygments_lexer": "ipython3",
      "version": "3.8.10"
    },
    "colab": {
      "name": "MCFrozenLake.ipynb",
      "provenance": [],
      "include_colab_link": true
    }
  },
  "nbformat": 4,
  "nbformat_minor": 5
}