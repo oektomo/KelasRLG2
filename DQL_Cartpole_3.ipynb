{
 "cells": [
  {
   "cell_type": "markdown",
   "metadata": {
    "colab_type": "text",
    "id": "view-in-github"
   },
   "source": [
    "<a href=\"https://colab.research.google.com/github/oektomo/KelasRLG2/blob/master/DQL_Cartpole.ipynb\" target=\"_parent\"><img src=\"https://colab.research.google.com/assets/colab-badge.svg\" alt=\"Open In Colab\"/></a>"
   ]
  },
  {
   "cell_type": "code",
   "execution_count": 1,
   "metadata": {
    "id": "IQd00eaaf53-"
   },
   "outputs": [],
   "source": [
    "# !pip install score\n",
    "# https://gsurma.medium.com/cartpole-introduction-to-reinforcement-learning-ed0eb5b58288"
   ]
  },
  {
   "cell_type": "code",
   "execution_count": 1,
   "metadata": {
    "id": "o-dP9nwjVGmn"
   },
   "outputs": [
    {
     "name": "stderr",
     "output_type": "stream",
     "text": [
      "2022-04-13 18:56:00.877998: W tensorflow/stream_executor/platform/default/dso_loader.cc:59] Could not load dynamic library 'libcudart.so.10.1'; dlerror: libcudart.so.10.1: cannot open shared object file: No such file or directory; LD_LIBRARY_PATH: /home/otm/notebook/jupyterenv/lib/python3.8/site-packages/cv2/../../lib64::/home/otm/.mujoco/mjpro150/bin\n",
      "2022-04-13 18:56:00.878030: I tensorflow/stream_executor/cuda/cudart_stub.cc:29] Ignore above cudart dlerror if you do not have a GPU set up on your machine.\n",
      "/home/otm/notebook/jupyterenv/lib/python3.8/site-packages/tensorflow/python/framework/dtypes.py:513: DeprecationWarning: `np.object` is a deprecated alias for the builtin `object`. To silence this warning, use `object` by itself. Doing this will not modify any behavior and is safe. \n",
      "Deprecated in NumPy 1.20; for more details and guidance: https://numpy.org/devdocs/release/1.20.0-notes.html#deprecations\n",
      "  np.object,\n",
      "/home/otm/notebook/jupyterenv/lib/python3.8/site-packages/tensorflow/python/framework/dtypes.py:521: DeprecationWarning: `np.bool` is a deprecated alias for the builtin `bool`. To silence this warning, use `bool` by itself. Doing this will not modify any behavior and is safe. If you specifically wanted the numpy scalar type, use `np.bool_` here.\n",
      "Deprecated in NumPy 1.20; for more details and guidance: https://numpy.org/devdocs/release/1.20.0-notes.html#deprecations\n",
      "  np.bool,\n",
      "/home/otm/notebook/jupyterenv/lib/python3.8/site-packages/tensorflow/python/framework/tensor_util.py:107: DeprecationWarning: `np.object` is a deprecated alias for the builtin `object`. To silence this warning, use `object` by itself. Doing this will not modify any behavior and is safe. \n",
      "Deprecated in NumPy 1.20; for more details and guidance: https://numpy.org/devdocs/release/1.20.0-notes.html#deprecations\n",
      "  np.object:\n",
      "/home/otm/notebook/jupyterenv/lib/python3.8/site-packages/tensorflow/python/framework/tensor_util.py:109: DeprecationWarning: `np.bool` is a deprecated alias for the builtin `bool`. To silence this warning, use `bool` by itself. Doing this will not modify any behavior and is safe. If you specifically wanted the numpy scalar type, use `np.bool_` here.\n",
      "Deprecated in NumPy 1.20; for more details and guidance: https://numpy.org/devdocs/release/1.20.0-notes.html#deprecations\n",
      "  np.bool:\n",
      "/home/otm/notebook/jupyterenv/lib/python3.8/site-packages/h5py/__init__.py:46: DeprecationWarning: `np.typeDict` is a deprecated alias for `np.sctypeDict`.\n",
      "  from ._conv import register_converters as _register_converters\n"
     ]
    }
   ],
   "source": [
    "import random\n",
    "import gym\n",
    "import math\n",
    "import numpy as np\n",
    "import matplotlib.pyplot as plt\n",
    "from collections import deque\n",
    "from tensorflow.keras.models import Sequential\n",
    "from tensorflow.keras.layers import Dense\n",
    "#from keras.optimizers import Adam\n",
    "from tensorflow.keras.optimizers import Adam\n",
    "\n",
    "# from scores.score_logger import ScoreLogger\n",
    "\n",
    "ENV_NAME = \"CartPole-v1\"\n",
    "\n",
    "GAMMA = 0.95\n",
    "LEARNING_RATE = 0.001\n",
    "\n",
    "MEMORY_SIZE = 1000000\n",
    "BATCH_SIZE = 20\n",
    "\n",
    "EXPLORATION_MAX = 1.0\n",
    "EXPLORATION_MIN = 0.01\n",
    "EXPLORATION_DECAY = 0.995"
   ]
  },
  {
   "cell_type": "code",
   "execution_count": 2,
   "metadata": {
    "id": "TRLxoXtdVefh"
   },
   "outputs": [],
   "source": [
    "class DQNSolver:\n",
    "  def __init__(self, observation_space, action_space):\n",
    "    self.exploration_rate = EXPLORATION_MAX\n",
    "    \n",
    "    self.action_space = action_space\n",
    "    self.memory = deque(maxlen=MEMORY_SIZE)\n",
    "\n",
    "    self.model = Sequential()\n",
    "    self.model.add(Dense(24, input_shape=(observation_space, ), activation=\"relu\"))\n",
    "    self.model.add(Dense(24, activation=\"relu\"))\n",
    "    self.model.add(Dense(self.action_space, activation=\"linear\"))\n",
    "    # model.compile(optimizer=tf.keras.optimizers.Adam(learning_rate=1e-3),\n",
    "    self.model.compile(loss=\"mse\", optimizer=Adam(learning_rate=LEARNING_RATE))\n",
    "  \n",
    "  def remember(self, state, action, reward, next_state, done):\n",
    "    self.memory.append((state, action, reward, next_state, done))\n",
    "\n",
    "  # choose if we want to explore or use the neural net\n",
    "  def act(self, state):\n",
    "    if np.random.rand() < self.exploration_rate:\n",
    "      return random.randrange(self.action_space)\n",
    "    q_values = self.model.predict(state)\n",
    "    return np.argmax(q_values[0])\n",
    "\n",
    "  # Replay Memory in Experience Replay\n",
    "  def experience_replay(self):\n",
    "    if len(self.memory) < BATCH_SIZE:\n",
    "      return\n",
    "    batch = random.sample(self.memory, BATCH_SIZE)\n",
    "    for state, action, reward, state_next, terminal in batch:\n",
    "      q_update = reward\n",
    "      if not terminal:\n",
    "        q_update = reward + GAMMA * np.amax(self.model.predict(state_next)[0])\n",
    "      q_values = self.model.predict(state)\n",
    "      q_values[0][action] = q_update\n",
    "      self.model.fit(state, q_values, verbose=0)\n",
    "    self.exploration_rate *= EXPLORATION_DECAY\n",
    "    self.exploration_rate = max(EXPLORATION_MIN, self.exploration_rate)"
   ]
  },
  {
   "cell_type": "code",
   "execution_count": 3,
   "metadata": {
    "id": "WBqbZjUEe3Io"
   },
   "outputs": [],
   "source": [
    "def cartpole(max_run = 3):\n",
    "    env = gym.make(ENV_NAME)\n",
    "    #score_logger = ScoreLogger(ENV_NAME)\n",
    "    observation_space = env.observation_space.shape[0]\n",
    "    action_space = env.action_space.n\n",
    "    dqn_solver = DQNSolver(observation_space, action_space)\n",
    "    run = 0\n",
    "    score = []\n",
    "    lcpos = [] # longest episode cart position\n",
    "    lcvel = [] # longest episode cart velocity\n",
    "    lpangl = [] # longest episode pole angle\n",
    "    #max_run = 3\n",
    "    while True:\n",
    "        run += 1\n",
    "        state = env.reset()\n",
    "        state = np.reshape(state, [1, observation_space])\n",
    "        step = 0\n",
    "        cpos = []\n",
    "        cvel = []\n",
    "        pangl = []\n",
    "        cpos.append(state[0,0])\n",
    "        cvel.append(state[0,1])\n",
    "        pangl.append(state[0,2])\n",
    "        while True:\n",
    "            step += 1\n",
    "            #env.render()\n",
    "            action = dqn_solver.act(state)\n",
    "            state_next, reward, terminal, info = env.step(action)\n",
    "            cpos.append(state_next[0])\n",
    "            cvel.append(state_next[1])\n",
    "            pangl.append(math.degrees(state_next[2]))\n",
    "            reward = reward if not terminal else -reward\n",
    "            state_next = np.reshape(state_next, [1, observation_space])\n",
    "            dqn_solver.remember(state, action, reward, state_next, terminal)\n",
    "            state = state_next\n",
    "            if terminal:\n",
    "                print (\"Episode: \"+str(run)+\n",
    "                       \", exploration: \"+str(round(dqn_solver.exploration_rate, 3))+\n",
    "                       \", score: \"+str(step)+\n",
    "                       \", pos: \"+str(round(state_next[0,0], 3))+\n",
    "                       \", angle: \"+str(round(math.degrees(state_next[0,2]), 2))+\n",
    "                       \" deg\")\n",
    "                score.append(step)\n",
    "                #if cpos.size > lcpos.size:\n",
    "                if len(cpos) > len(lcpos):\n",
    "                    lcpos = cpos\n",
    "                    lcvel = cvel\n",
    "                    lpangl = pangl\n",
    "                #plt.plot(pangl)\n",
    "                #plt.plot(cvel)\n",
    "                #score_logger.add_score(step, run)\n",
    "                break\n",
    "            dqn_solver.experience_replay()\n",
    "        if run >= max_run:\n",
    "            break\n",
    "    plt.plot(score)\n",
    "    return score, lcpos, lcvel, lpangl\n",
    "    # todo: check the code for saving the longest episode cart speed, cart position, pole angle\n",
    "    # refactor the code to make one list to record angle and score?"
   ]
  },
  {
   "cell_type": "code",
   "execution_count": 4,
   "metadata": {
    "colab": {
     "base_uri": "https://localhost:8080/"
    },
    "id": "PxZvz9En7hhA",
    "outputId": "9aca5fc6-b703-43be-e089-7a4da19a3a6b"
   },
   "outputs": [
    {
     "name": "stderr",
     "output_type": "stream",
     "text": [
      "2022-04-13 18:56:04.321145: W tensorflow/stream_executor/platform/default/dso_loader.cc:59] Could not load dynamic library 'libcuda.so.1'; dlerror: libcuda.so.1: cannot open shared object file: No such file or directory; LD_LIBRARY_PATH: /home/otm/notebook/jupyterenv/lib/python3.8/site-packages/cv2/../../lib64::/home/otm/.mujoco/mjpro150/bin\n",
      "2022-04-13 18:56:04.321173: W tensorflow/stream_executor/cuda/cuda_driver.cc:312] failed call to cuInit: UNKNOWN ERROR (303)\n",
      "2022-04-13 18:56:04.321189: I tensorflow/stream_executor/cuda/cuda_diagnostics.cc:156] kernel driver does not appear to be running on this host (orbit): /proc/driver/nvidia/version does not exist\n",
      "2022-04-13 18:56:04.321368: I tensorflow/core/platform/cpu_feature_guard.cc:142] This TensorFlow binary is optimized with oneAPI Deep Neural Network Library (oneDNN)to use the following CPU instructions in performance-critical operations:  AVX2 AVX512F FMA\n",
      "To enable them in other operations, rebuild TensorFlow with the appropriate compiler flags.\n",
      "2022-04-13 18:56:04.346731: I tensorflow/core/platform/profile_utils/cpu_utils.cc:104] CPU Frequency: 2419200000 Hz\n",
      "2022-04-13 18:56:04.347290: I tensorflow/compiler/xla/service/service.cc:168] XLA service 0x1729fa0 initialized for platform Host (this does not guarantee that XLA will be used). Devices:\n",
      "2022-04-13 18:56:04.347311: I tensorflow/compiler/xla/service/service.cc:176]   StreamExecutor device (0): Host, Default Version\n",
      "/home/otm/notebook/jupyterenv/lib/python3.8/site-packages/tensorflow/python/ops/numpy_ops/np_random.py:95: DeprecationWarning: `np.int` is a deprecated alias for the builtin `int`. To silence this warning, use `int` by itself. Doing this will not modify any behavior and is safe. When replacing `np.int`, you may wish to use e.g. `np.int64` or `np.int32` to specify the precision. If you wish to review your current use, check the release note link for additional information.\n",
      "Deprecated in NumPy 1.20; for more details and guidance: https://numpy.org/devdocs/release/1.20.0-notes.html#deprecations\n",
      "  def randint(low, high=None, size=None, dtype=onp.int):  # pylint: disable=missing-function-docstring\n"
     ]
    },
    {
     "name": "stdout",
     "output_type": "stream",
     "text": [
      "Episode: 1, exploration: 0.923, score: 36, pos: -0.02, angle: -12.23 deg\n",
      "Episode: 2, exploration: 0.848, score: 18, pos: -0.085, angle: 12.48 deg\n",
      "Episode: 3, exploration: 0.798, score: 13, pos: 0.109, angle: -14.25 deg\n",
      "Episode: 4, exploration: 0.733, score: 18, pos: 0.17, angle: -12.45 deg\n",
      "Episode: 5, exploration: 0.68, score: 16, pos: -0.194, angle: 13.87 deg\n",
      "Episode: 6, exploration: 0.594, score: 28, pos: -0.251, angle: 13.52 deg\n",
      "Episode: 7, exploration: 0.551, score: 16, pos: -0.069, angle: 12.52 deg\n",
      "Episode: 8, exploration: 0.526, score: 10, pos: -0.093, angle: 14.31 deg\n",
      "Episode: 9, exploration: 0.498, score: 12, pos: -0.137, angle: 14.41 deg\n",
      "Episode: 10, exploration: 0.451, score: 21, pos: -0.194, angle: 12.55 deg\n",
      "Episode: 11, exploration: 0.429, score: 11, pos: -0.068, angle: 12.1 deg\n",
      "Episode: 12, exploration: 0.406, score: 12, pos: -0.078, angle: 12.11 deg\n",
      "Episode: 13, exploration: 0.382, score: 13, pos: -0.143, angle: 13.01 deg\n",
      "Episode: 14, exploration: 0.332, score: 29, pos: 0.368, angle: -14.99 deg\n",
      "Episode: 15, exploration: 0.314, score: 12, pos: 0.197, angle: -14.03 deg\n",
      "Episode: 16, exploration: 0.284, score: 21, pos: 0.165, angle: -12.71 deg\n",
      "Episode: 17, exploration: 0.265, score: 15, pos: 0.139, angle: -12.07 deg\n",
      "Episode: 18, exploration: 0.242, score: 19, pos: 0.058, angle: -12.64 deg\n",
      "Episode: 19, exploration: 0.196, score: 43, pos: 0.305, angle: -14.57 deg\n",
      "Episode: 20, exploration: 0.185, score: 13, pos: 0.13, angle: -12.67 deg\n",
      "Episode: 21, exploration: 0.176, score: 11, pos: -0.13, angle: 13.44 deg\n",
      "Episode: 22, exploration: 0.162, score: 17, pos: -0.117, angle: 12.09 deg\n",
      "Episode: 23, exploration: 0.039, score: 285, pos: 1.768, angle: 12.42 deg\n",
      "Episode: 24, exploration: 0.012, score: 242, pos: -2.416, angle: -11.04 deg\n",
      "Episode: 25, exploration: 0.01, score: 317, pos: -2.405, angle: -9.45 deg\n",
      "Episode: 26, exploration: 0.01, score: 242, pos: -2.412, angle: -8.21 deg\n",
      "Episode: 27, exploration: 0.01, score: 317, pos: -2.404, angle: -5.79 deg\n",
      "Episode: 28, exploration: 0.01, score: 358, pos: 2.417, angle: 7.64 deg\n",
      "Episode: 29, exploration: 0.01, score: 269, pos: -2.404, angle: -9.34 deg\n",
      "Episode: 30, exploration: 0.01, score: 348, pos: -2.43, angle: -8.37 deg\n",
      "Episode: 31, exploration: 0.01, score: 475, pos: -2.413, angle: -5.89 deg\n",
      "Episode: 32, exploration: 0.01, score: 244, pos: -2.401, angle: -9.61 deg\n",
      "Episode: 33, exploration: 0.01, score: 333, pos: -2.402, angle: -6.23 deg\n",
      "Episode: 34, exploration: 0.01, score: 228, pos: -2.411, angle: -7.52 deg\n",
      "Episode: 35, exploration: 0.01, score: 330, pos: 2.402, angle: 0.24 deg\n",
      "Episode: 36, exploration: 0.01, score: 500, pos: 2.311, angle: 6.82 deg\n",
      "Episode: 37, exploration: 0.01, score: 221, pos: 2.418, angle: 2.98 deg\n",
      "Episode: 38, exploration: 0.01, score: 500, pos: 1.436, angle: -0.52 deg\n",
      "Episode: 39, exploration: 0.01, score: 276, pos: 2.428, angle: -5.08 deg\n",
      "Episode: 40, exploration: 0.01, score: 217, pos: 2.41, angle: 3.43 deg\n",
      "Episode: 41, exploration: 0.01, score: 246, pos: 2.406, angle: 7.0 deg\n",
      "Episode: 42, exploration: 0.01, score: 165, pos: 2.404, angle: 3.75 deg\n",
      "Episode: 43, exploration: 0.01, score: 164, pos: 1.579, angle: 12.04 deg\n",
      "Episode: 44, exploration: 0.01, score: 148, pos: 2.43, angle: 1.42 deg\n",
      "Episode: 45, exploration: 0.01, score: 177, pos: 1.08, angle: 12.47 deg\n",
      "Episode: 46, exploration: 0.01, score: 182, pos: 2.3, angle: 12.05 deg\n",
      "Episode: 47, exploration: 0.01, score: 183, pos: -2.416, angle: -4.2 deg\n",
      "Episode: 48, exploration: 0.01, score: 217, pos: 2.402, angle: 8.44 deg\n",
      "Episode: 49, exploration: 0.01, score: 123, pos: 2.433, angle: -6.05 deg\n",
      "Episode: 50, exploration: 0.01, score: 225, pos: -2.42, angle: -5.07 deg\n",
      "Episode: 51, exploration: 0.01, score: 212, pos: 2.42, angle: -8.47 deg\n",
      "Episode: 52, exploration: 0.01, score: 335, pos: -2.423, angle: -11.13 deg\n",
      "Episode: 53, exploration: 0.01, score: 144, pos: 2.423, angle: -2.33 deg\n",
      "Episode: 54, exploration: 0.01, score: 243, pos: 2.432, angle: -2.38 deg\n",
      "Episode: 55, exploration: 0.01, score: 245, pos: 2.441, angle: 4.56 deg\n",
      "Episode: 56, exploration: 0.01, score: 248, pos: -2.414, angle: -4.85 deg\n",
      "Episode: 57, exploration: 0.01, score: 188, pos: 2.424, angle: 1.95 deg\n",
      "Episode: 58, exploration: 0.01, score: 183, pos: 2.441, angle: 3.85 deg\n",
      "Episode: 59, exploration: 0.01, score: 319, pos: 1.685, angle: 12.32 deg\n",
      "Episode: 60, exploration: 0.01, score: 157, pos: 2.445, angle: -3.36 deg\n",
      "Episode: 61, exploration: 0.01, score: 267, pos: -2.408, angle: -3.27 deg\n",
      "Episode: 62, exploration: 0.01, score: 209, pos: 2.104, angle: 12.56 deg\n",
      "Episode: 63, exploration: 0.01, score: 164, pos: -2.423, angle: -5.26 deg\n",
      "Episode: 64, exploration: 0.01, score: 122, pos: 1.355, angle: 12.2 deg\n",
      "Episode: 65, exploration: 0.01, score: 170, pos: -2.426, angle: -7.08 deg\n",
      "Episode: 66, exploration: 0.01, score: 150, pos: 1.708, angle: 12.13 deg\n",
      "Episode: 67, exploration: 0.01, score: 85, pos: 1.28, angle: 12.05 deg\n",
      "Episode: 68, exploration: 0.01, score: 153, pos: -2.404, angle: -8.41 deg\n",
      "Episode: 69, exploration: 0.01, score: 129, pos: -2.435, angle: -4.88 deg\n",
      "Episode: 70, exploration: 0.01, score: 159, pos: 0.896, angle: 12.4 deg\n",
      "Episode: 71, exploration: 0.01, score: 91, pos: 0.962, angle: 12.3 deg\n",
      "Episode: 72, exploration: 0.01, score: 146, pos: -2.414, angle: -0.18 deg\n",
      "Episode: 73, exploration: 0.01, score: 261, pos: -2.41, angle: -8.29 deg\n",
      "Episode: 74, exploration: 0.01, score: 57, pos: -0.593, angle: 12.01 deg\n",
      "Episode: 75, exploration: 0.01, score: 198, pos: -2.433, angle: -5.67 deg\n",
      "Episode: 76, exploration: 0.01, score: 122, pos: -1.684, angle: 13.29 deg\n",
      "Episode: 77, exploration: 0.01, score: 191, pos: -2.419, angle: -5.85 deg\n",
      "Episode: 78, exploration: 0.01, score: 186, pos: 1.004, angle: 12.97 deg\n",
      "Episode: 79, exploration: 0.01, score: 285, pos: 2.413, angle: -0.58 deg\n",
      "Episode: 80, exploration: 0.01, score: 180, pos: -2.433, angle: -5.9 deg\n",
      "Episode: 81, exploration: 0.01, score: 196, pos: -2.404, angle: -3.12 deg\n",
      "Episode: 82, exploration: 0.01, score: 136, pos: -2.417, angle: -7.34 deg\n",
      "Episode: 83, exploration: 0.01, score: 358, pos: -2.443, angle: -0.82 deg\n",
      "Episode: 84, exploration: 0.01, score: 109, pos: 2.417, angle: -4.05 deg\n",
      "Episode: 85, exploration: 0.01, score: 133, pos: -2.428, angle: -3.73 deg\n",
      "Episode: 86, exploration: 0.01, score: 189, pos: -2.413, angle: -3.68 deg\n",
      "Episode: 87, exploration: 0.01, score: 265, pos: -2.416, angle: 0.68 deg\n",
      "Episode: 88, exploration: 0.01, score: 260, pos: -2.407, angle: -6.26 deg\n",
      "Episode: 89, exploration: 0.01, score: 148, pos: -2.429, angle: -6.13 deg\n",
      "Episode: 90, exploration: 0.01, score: 188, pos: -2.433, angle: -6.63 deg\n",
      "Episode: 91, exploration: 0.01, score: 112, pos: 1.273, angle: 12.22 deg\n",
      "Episode: 92, exploration: 0.01, score: 322, pos: -2.421, angle: -6.49 deg\n",
      "Episode: 93, exploration: 0.01, score: 164, pos: -2.402, angle: -3.71 deg\n",
      "Episode: 94, exploration: 0.01, score: 116, pos: 2.428, angle: -3.33 deg\n",
      "Episode: 95, exploration: 0.01, score: 100, pos: 0.358, angle: 12.32 deg\n",
      "Episode: 96, exploration: 0.01, score: 145, pos: -2.402, angle: -5.87 deg\n",
      "Episode: 97, exploration: 0.01, score: 124, pos: -2.43, angle: -1.98 deg\n",
      "Episode: 98, exploration: 0.01, score: 131, pos: -2.408, angle: -5.01 deg\n",
      "Episode: 99, exploration: 0.01, score: 254, pos: -2.415, angle: -6.98 deg\n",
      "Episode: 100, exploration: 0.01, score: 155, pos: 2.402, angle: -1.93 deg\n"
     ]
    },
    {
     "data": {
      "image/png": "[encoded data removed]",
      "text/plain": [
       "<Figure size 432x288 with 1 Axes>"
      ]
     },
     "metadata": {
      "needs_background": "light"
     },
     "output_type": "display_data"
    }
   ],
   "source": [
    "score, lcpos, lcvel, lpangl = cartpole(100)"
   ]
  },
  {
   "cell_type": "code",
   "execution_count": null,
   "metadata": {
    "id": "IdogEvndgUX0"
   },
   "outputs": [],
   "source": [
    "plt.plot(score)"
   ]
  },
  {
   "cell_type": "code",
   "execution_count": null,
   "metadata": {
    "id": "fcAz7Y5kO5ch"
   },
   "outputs": [],
   "source": [
    "plt.plot(lcpos)"
   ]
  },
  {
   "cell_type": "code",
   "execution_count": null,
   "metadata": {
    "id": "ynd8OWK-gWfr"
   },
   "outputs": [],
   "source": [
    "env.observation_space.shape[0]"
   ]
  },
  {
   "cell_type": "code",
   "execution_count": null,
   "metadata": {
    "id": "aXPfB9sYgZSM"
   },
   "outputs": [],
   "source": [
    "env.action_space"
   ]
  },
  {
   "cell_type": "markdown",
   "metadata": {
    "id": "bsxHoE2thI4v"
   },
   "source": [
    "\n",
    "    Observation: \n",
    "        Type: Box(4)\n",
    "\n",
    "    The observation is a `ndarray` with shape `(4,)` with the values corresponding to the following positions and velocities:\n",
    "    | Num | Observation           | Min                  | Max                |\n",
    "    |-----|-----------------------|----------------------|--------------------|\n",
    "    | 0   | Cart Position         | -4.8                 | 4.8                |\n",
    "    | 1   | Cart Velocity         | -Inf                 | Inf                |\n",
    "    | 2   | Pole Angle            | ~ -0.418 rad (-24°)  | ~ 0.418 rad (24°)  |\n",
    "    | 3   | Pole Angular Velocity | -Inf                 | Inf                |\n",
    "    **Note:** While the ranges above denote the possible values for observation space of each element, \n",
    "    it is not reflective of the allowed values of the state space in an unterminated episode. Particularly:\n",
    "    -  The cart x-position (index 0) can be take values between `(-4.8, 4.8)`, but the episode terminates if the cart leaves the `(-2.4, 2.4)` range.\n",
    "    -  The pole angle can be observed between  `(-.418, .418)` radians (or **±24°**), but the episode terminates if the pole angle is not in the range `(-.2095, .2095)` (or **±12°**)\n",
    "\n",
    "\n",
    "    Action:\n",
    "        Type: Discrete(2)\n",
    "        Num\tAction\n",
    "        0\tPush cart to the left\n",
    "        1\tPush cart to the right"
   ]
  },
  {
   "cell_type": "code",
   "execution_count": null,
   "metadata": {
    "id": "AX1NPGC7Pd5U"
   },
   "outputs": [],
   "source": []
  }
 ],
 "metadata": {
  "accelerator": "TPU",
  "colab": {
   "authorship_tag": "ABX9TyNV2QuyBWtUQG+Y1ZgQnLqK",
   "collapsed_sections": [],
   "include_colab_link": true,
   "name": "DQL-Cartpole",
   "provenance": []
  },
  "kernelspec": {
   "display_name": "Python 3 (ipykernel)",
   "language": "python",
   "name": "python3"
  },
  "language_info": {
   "codemirror_mode": {
    "name": "ipython",
    "version": 3
   },
   "file_extension": ".py",
   "mimetype": "text/x-python",
   "name": "python",
   "nbconvert_exporter": "python",
   "pygments_lexer": "ipython3",
   "version": "3.8.10"
  },
  "toc": {
   "base_numbering": 1,
   "nav_menu": {},
   "number_sections": true,
   "sideBar": true,
   "skip_h1_title": false,
   "title_cell": "Table of Contents",
   "title_sidebar": "Contents",
   "toc_cell": false,
   "toc_position": {},
   "toc_section_display": true,
   "toc_window_display": false
  }
 },
 "nbformat": 4,
 "nbformat_minor": 1
}
